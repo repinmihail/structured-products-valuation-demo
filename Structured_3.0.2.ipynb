{
 "cells": [
  {
   "cell_type": "markdown",
   "metadata": {},
   "source": [
    "# Калькулятор структурных облигаций\n",
    "__Версия 3.0.2__"
   ]
  },
  {
   "cell_type": "code",
   "execution_count": 1,
   "metadata": {},
   "outputs": [
    {
     "name": "stdout",
     "output_type": "stream",
     "text": [
      "Для вызова справки введите sp.help()\n"
     ]
    },
    {
     "data": {
      "application/vnd.jupyter.widget-view+json": {
       "model_id": "366a59899599498e8c5c0e4a63339753",
       "version_major": 2,
       "version_minor": 0
      },
      "text/plain": [
       "VBox(children=(Label(value='Выберите тип облигации:'), Dropdown(layout=Layout(width='200px'), options=(('Не вы…"
      ]
     },
     "metadata": {},
     "output_type": "display_data"
    }
   ],
   "source": [
    "%load_ext autoreload\n",
    "%autoreload 2\n",
    "\n",
    "import numpy as np\n",
    "import pandas as pd\n",
    "import SPmodule as sp\n",
    "import ipywidgets as wid\n",
    "\n",
    "print('Для вызова справки введите sp.help()')\n",
    "isins = [\n",
    "    'RU000A1032Q9',\n",
    "    'SBER_CIB_CO_31_170621',\n",
    "    'SBER_CIB_CO_32_150621',\n",
    "    'SBER_CIB_CO_68_190721',\n",
    "    'SBER_CIB_CO_21_280721',\n",
    "    'SOVCOM_BANK_GS_230421'\n",
    "        ]\n",
    "pd.set_option('display.max_rows', 30)\n",
    "sp.input_parameters()\n",
    "#SBER_CIB_CO_31_170621 CIB_CO_31 2021-06-17 2024-06-19\n",
    "# 1-ый тип XS2182825476\n",
    "# 2-ой тип XS1714417497\n",
    "# 3-ий тип RU000A0ZZ6Q2\n",
    "# 4-ый тип RU000A101SW8\n",
    "# 5-ый тип XS2143149834"
   ]
  },
  {
   "cell_type": "code",
   "execution_count": 5,
   "metadata": {},
   "outputs": [
    {
     "name": "stdout",
     "output_type": "stream",
     "text": [
      "Collecting pandas==1.0.0\n",
      "  Using cached pandas-1.0.0-cp38-cp38-win_amd64.whl (9.1 MB)\n",
      "Requirement already satisfied: pytz>=2017.2 in c:\\users\\repin\\anaconda3\\lib\\site-packages (from pandas==1.0.0) (2020.1)\n",
      "Requirement already satisfied: numpy>=1.13.3 in c:\\users\\repin\\anaconda3\\lib\\site-packages (from pandas==1.0.0) (1.18.5)\n",
      "Requirement already satisfied: python-dateutil>=2.6.1 in c:\\users\\repin\\anaconda3\\lib\\site-packages (from pandas==1.0.0) (2.8.1)\n",
      "Requirement already satisfied: six>=1.5 in c:\\users\\repin\\anaconda3\\lib\\site-packages (from python-dateutil>=2.6.1->pandas==1.0.0) (1.15.0)\n",
      "Installing collected packages: pandas\n",
      "  Attempting uninstall: pandas\n",
      "    Found existing installation: pandas 1.3.0\n",
      "    Uninstalling pandas-1.3.0:\n",
      "      Successfully uninstalled pandas-1.3.0\n"
     ]
    },
    {
     "name": "stderr",
     "output_type": "stream",
     "text": [
      "ERROR: Could not install packages due to an EnvironmentError: [WinError 5] Отказано в доступе: 'C:\\\\Users\\\\repin\\\\anaconda3\\\\Lib\\\\site-packages\\\\~8ndas\\\\_libs\\\\algos.cp38-win_amd64.pyd'\n",
      "Consider using the `--user` option or check the permissions.\n",
      "\n"
     ]
    }
   ],
   "source": [
    "! pip install pandas==1.0.0"
   ]
  },
  {
   "cell_type": "code",
   "execution_count": 2,
   "metadata": {},
   "outputs": [
    {
     "data": {
      "text/plain": [
       "'1.0.0'"
      ]
     },
     "execution_count": 2,
     "metadata": {},
     "output_type": "execute_result"
    }
   ],
   "source": [
    "pd.__version__"
   ]
  }
 ],
 "metadata": {
  "kernelspec": {
   "display_name": "Python 3",
   "language": "python",
   "name": "python3"
  },
  "language_info": {
   "codemirror_mode": {
    "name": "ipython",
    "version": 3
   },
   "file_extension": ".py",
   "mimetype": "text/x-python",
   "name": "python",
   "nbconvert_exporter": "python",
   "pygments_lexer": "ipython3",
   "version": "3.8.3"
  },
  "widgets": {
   "application/vnd.jupyter.widget-state+json": {
    "state": {
     "004869121340466682ae646583f4c623": {
      "model_module": "@jupyter-widgets/base",
      "model_module_version": "1.2.0",
      "model_name": "LayoutModel",
      "state": {}
     },
     "004bab9a32084e41a19036135e37853a": {
      "model_module": "@jupyter-widgets/controls",
      "model_module_version": "1.5.0",
      "model_name": "DescriptionStyleModel",
      "state": {
       "description_width": ""
      }
     },
     "009b6830d4374853af53afa4aa9d07e5": {
      "model_module": "@jupyter-widgets/controls",
      "model_module_version": "1.5.0",
      "model_name": "CheckboxModel",
      "state": {
       "description": "Учитывать ли дивиденды",
       "disabled": false,
       "layout": "IPY_MODEL_62042f4a1eaa478b85781e08975da5d8",
       "style": "IPY_MODEL_f81ff2c219234d2185566d52648533d0",
       "value": false
      }
     },
     "0143daeaeab44f719ea54542c64f1951": {
      "model_module": "@jupyter-widgets/controls",
      "model_module_version": "1.5.0",
      "model_name": "TextModel",
      "state": {
       "description": "Число окон в истории",
       "layout": "IPY_MODEL_51eeea2543364be2bc7c88810c78c5c9",
       "style": "IPY_MODEL_074ce20aad24437094f265c671681dd7",
       "value": "10"
      }
     },
     "01857d7631224bafa5474a34b9f9928c": {
      "model_module": "@jupyter-widgets/controls",
      "model_module_version": "1.5.0",
      "model_name": "DescriptionStyleModel",
      "state": {
       "description_width": "200px"
      }
     },
     "01d40550eb4a43b59a48efc008a1d225": {
      "model_module": "@jupyter-widgets/base",
      "model_module_version": "1.2.0",
      "model_name": "LayoutModel",
      "state": {
       "width": "392px"
      }
     },
     "02bc4b27c4064728897f7a6c31c2afb9": {
      "model_module": "@jupyter-widgets/controls",
      "model_module_version": "1.5.0",
      "model_name": "DescriptionStyleModel",
      "state": {
       "description_width": ""
      }
     },
     "03a5583ba25145c19853470d3da0af92": {
      "model_module": "@jupyter-widgets/controls",
      "model_module_version": "1.5.0",
      "model_name": "DescriptionStyleModel",
      "state": {
       "description_width": "200px"
      }
     },
     "069c5352c71c488584b380644928cefc": {
      "model_module": "@jupyter-widgets/base",
      "model_module_version": "1.2.0",
      "model_name": "LayoutModel",
      "state": {
       "width": "392px"
      }
     },
     "072393eb0f754c8cb6613a0714f4da5b": {
      "model_module": "@jupyter-widgets/controls",
      "model_module_version": "1.5.0",
      "model_name": "HBoxModel",
      "state": {
       "children": [
        "IPY_MODEL_a917450949f84b63a40cfa9d909b7806",
        "IPY_MODEL_009b6830d4374853af53afa4aa9d07e5"
       ],
       "layout": "IPY_MODEL_a57c173317a24f08b2db82962d99f773"
      }
     },
     "074ce20aad24437094f265c671681dd7": {
      "model_module": "@jupyter-widgets/controls",
      "model_module_version": "1.5.0",
      "model_name": "DescriptionStyleModel",
      "state": {
       "description_width": "300px"
      }
     },
     "0764a23a49f44145af577259dbb71ee9": {
      "model_module": "@jupyter-widgets/controls",
      "model_module_version": "1.5.0",
      "model_name": "TextModel",
      "state": {
       "description": "Файл с историей LIBOR",
       "layout": "IPY_MODEL_079f331e410c427d9401ab2d5e4dfd52",
       "style": "IPY_MODEL_b7690e5d5e654f7880288c61135523e4"
      }
     },
     "079f331e410c427d9401ab2d5e4dfd52": {
      "model_module": "@jupyter-widgets/base",
      "model_module_version": "1.2.0",
      "model_name": "LayoutModel",
      "state": {
       "width": "392px"
      }
     },
     "0a4fe88f123745f1b3c01201b05c055e": {
      "model_module": "@jupyter-widgets/base",
      "model_module_version": "1.2.0",
      "model_name": "LayoutModel",
      "state": {}
     },
     "0bd9f88f3fe44e42a0dd55542448a7d0": {
      "model_module": "@jupyter-widgets/base",
      "model_module_version": "1.2.0",
      "model_name": "LayoutModel",
      "state": {}
     },
     "0db23138431a43c4ac640f315ac0f705": {
      "model_module": "@jupyter-widgets/controls",
      "model_module_version": "1.5.0",
      "model_name": "TextModel",
      "state": {
       "description": "Начальные цены активов",
       "layout": "IPY_MODEL_ba43650ff6e245778cd045157ed9d7db",
       "style": "IPY_MODEL_b8829e8971304030886896de68626f13"
      }
     },
     "0e810524a94b4857a89363af20a29a9a": {
      "model_module": "@jupyter-widgets/base",
      "model_module_version": "1.2.0",
      "model_name": "LayoutModel",
      "state": {
       "width": "392px"
      }
     },
     "106ed5c1a7f449f8914e7d7df04f81a8": {
      "model_module": "@jupyter-widgets/base",
      "model_module_version": "1.2.0",
      "model_name": "LayoutModel",
      "state": {
       "width": "392px"
      }
     },
     "1191f42aef5e40599ef93880b1e658ef": {
      "model_module": "@jupyter-widgets/controls",
      "model_module_version": "1.5.0",
      "model_name": "DescriptionStyleModel",
      "state": {
       "description_width": "200px"
      }
     },
     "13abc83e29a44048898866570b68cac9": {
      "model_module": "@jupyter-widgets/controls",
      "model_module_version": "1.5.0",
      "model_name": "TextareaModel",
      "state": {
       "description": "Даты наблюдения",
       "layout": "IPY_MODEL_ea19a7778c5546119139937e761113ae",
       "style": "IPY_MODEL_43e8d880951a414dbb8ffe9be2ab44fb",
       "value": "2020-12-23 2021-06-23 2021-12-23 2022-06-23 2022-12-23 2023-06-23"
      }
     },
     "13b32db0da7e40d19808692d7317ca7a": {
      "model_module": "@jupyter-widgets/controls",
      "model_module_version": "1.5.0",
      "model_name": "TextModel",
      "state": {
       "description": "Коэффициент участия",
       "layout": "IPY_MODEL_60ec8af20c30490594f2cb4844eb475e",
       "style": "IPY_MODEL_8f8a9e03cf5b4274926d2cc721951f3c"
      }
     },
     "169902bbc93144128b95043eeb0f6656": {
      "model_module": "@jupyter-widgets/controls",
      "model_module_version": "1.5.0",
      "model_name": "HBoxModel",
      "state": {
       "children": [
        "IPY_MODEL_8e9dbc8c8ee54c5c88d3c3f81feef53f",
        "IPY_MODEL_ddfeb820e84e4ace9d65b8f98d029411"
       ],
       "layout": "IPY_MODEL_0a4fe88f123745f1b3c01201b05c055e"
      }
     },
     "17ff71fdc20140b2999495c9a854f3f5": {
      "model_module": "@jupyter-widgets/controls",
      "model_module_version": "1.5.0",
      "model_name": "DescriptionStyleModel",
      "state": {
       "description_width": "200px"
      }
     },
     "18e165fe42ff4b84a8927320ce94e643": {
      "model_module": "@jupyter-widgets/controls",
      "model_module_version": "1.5.0",
      "model_name": "DescriptionStyleModel",
      "state": {
       "description_width": ""
      }
     },
     "197cd2e79dea4a139544f4cf090f58d9": {
      "model_module": "@jupyter-widgets/base",
      "model_module_version": "1.2.0",
      "model_name": "LayoutModel",
      "state": {
       "width": "430px"
      }
     },
     "19fbc7825acb4844b2bf2f6a467743b2": {
      "model_module": "@jupyter-widgets/base",
      "model_module_version": "1.2.0",
      "model_name": "LayoutModel",
      "state": {}
     },
     "1b0f7d24ca874b3db4da9b733c04f9cb": {
      "model_module": "@jupyter-widgets/base",
      "model_module_version": "1.2.0",
      "model_name": "LayoutModel",
      "state": {}
     },
     "1bc6cf2c57794d20baf68a2c5b1e1635": {
      "model_module": "@jupyter-widgets/controls",
      "model_module_version": "1.5.0",
      "model_name": "DescriptionStyleModel",
      "state": {
       "description_width": ""
      }
     },
     "1e9bfe118dbe4a9ba46ce40e21d47370": {
      "model_module": "@jupyter-widgets/controls",
      "model_module_version": "1.5.0",
      "model_name": "DescriptionStyleModel",
      "state": {
       "description_width": "150px"
      }
     },
     "1f1d73fc50a248edbcbc317b3108d248": {
      "model_module": "@jupyter-widgets/base",
      "model_module_version": "1.2.0",
      "model_name": "LayoutModel",
      "state": {}
     },
     "1fb38863cbef4a5d9f9326b10bb71c37": {
      "model_module": "@jupyter-widgets/controls",
      "model_module_version": "1.5.0",
      "model_name": "DescriptionStyleModel",
      "state": {
       "description_width": "300px"
      }
     },
     "2349ca1e75594ecb968900973ae7b83e": {
      "model_module": "@jupyter-widgets/base",
      "model_module_version": "1.2.0",
      "model_name": "LayoutModel",
      "state": {}
     },
     "2426fc3c39364939854f8a27f9f59c1f": {
      "model_module": "@jupyter-widgets/controls",
      "model_module_version": "1.5.0",
      "model_name": "HTMLModel",
      "state": {
       "layout": "IPY_MODEL_c46e30b744b3444f84a293c69da91813",
       "style": "IPY_MODEL_bd901a8196524d3589f34a0557b33638",
       "value": "<b><font color='black'>Введите даты в формате ГГГГ-ММ-ДД. Несколько дат вводятся через пробел.</b>"
      }
     },
     "2457212de2f043dc914ca0409227ae97": {
      "model_module": "@jupyter-widgets/controls",
      "model_module_version": "1.5.0",
      "model_name": "DescriptionStyleModel",
      "state": {
       "description_width": "200px"
      }
     },
     "2495ee34cbcd401ba7b0a2927fb72adb": {
      "model_module": "@jupyter-widgets/controls",
      "model_module_version": "1.5.0",
      "model_name": "TextModel",
      "state": {
       "description": "Тикеры (через пробел)",
       "layout": "IPY_MODEL_a15042621c4f4a6d97d0fdc9fbbe042f",
       "style": "IPY_MODEL_17ff71fdc20140b2999495c9a854f3f5",
       "value": "NESN.SW T XOM JNJ PG"
      }
     },
     "24edf95d90b54592a6eb86755d46036e": {
      "model_module": "@jupyter-widgets/controls",
      "model_module_version": "1.5.0",
      "model_name": "DescriptionStyleModel",
      "state": {
       "description_width": "200px"
      }
     },
     "26b3938ee76e4d6b9f57e68803af97ff": {
      "model_module": "@jupyter-widgets/controls",
      "model_module_version": "1.5.0",
      "model_name": "DescriptionStyleModel",
      "state": {
       "description_width": ""
      }
     },
     "26ebb63e6908403691e4a3095e57d8f2": {
      "model_module": "@jupyter-widgets/controls",
      "model_module_version": "1.5.0",
      "model_name": "HBoxModel",
      "state": {
       "children": [
        "IPY_MODEL_2495ee34cbcd401ba7b0a2927fb72adb",
        "IPY_MODEL_a02e51e06e72458887afc9b32f239c16"
       ],
       "layout": "IPY_MODEL_42de21b813cd47f98ed688bdffaf70bd"
      }
     },
     "274270a9beba4dba84921ad948c34821": {
      "model_module": "@jupyter-widgets/controls",
      "model_module_version": "1.5.0",
      "model_name": "ButtonModel",
      "state": {
       "description": "Запустить расчет",
       "layout": "IPY_MODEL_bda43ae4d27940959e4e60a3f667c370",
       "style": "IPY_MODEL_c5dae0e008204b94a86568f22b9338c2"
      }
     },
     "27658f02a97d4d9b84e4cb804255ceca": {
      "model_module": "@jupyter-widgets/controls",
      "model_module_version": "1.5.0",
      "model_name": "CheckboxModel",
      "state": {
       "description": "Автоколл",
       "disabled": false,
       "layout": "IPY_MODEL_c2d2f5a336bb4515924d0a0dd82a9422",
       "style": "IPY_MODEL_004bab9a32084e41a19036135e37853a",
       "value": false
      }
     },
     "27803d8339994cb88a05e211198bd34b": {
      "model_module": "@jupyter-widgets/base",
      "model_module_version": "1.2.0",
      "model_name": "LayoutModel",
      "state": {}
     },
     "27fe3e6dae414367854fffc6c0b4f81a": {
      "model_module": "@jupyter-widgets/controls",
      "model_module_version": "1.5.0",
      "model_name": "TextModel",
      "state": {
       "description": "Короткое название",
       "layout": "IPY_MODEL_76d3e9a24ca34d119ad42dcda0b01a12",
       "style": "IPY_MODEL_e52ecbc7678e45d5b5ce5bc4b8f6856d",
       "value": "СберИОС267"
      }
     },
     "2a6cc1f125cb4f29827d3c5f4c7a7431": {
      "model_module": "@jupyter-widgets/controls",
      "model_module_version": "1.5.0",
      "model_name": "HTMLModel",
      "state": {
       "layout": "IPY_MODEL_6d19320842bb45caa4116fcef1993f8c",
       "style": "IPY_MODEL_7dedcd36cbb0445dba771f952d85117e",
       "value": "<b><font color='black'><font size=3>Потоки</b>"
      }
     },
     "2caa1de9ddcd41f49441738c10899bda": {
      "model_module": "@jupyter-widgets/base",
      "model_module_version": "1.2.0",
      "model_name": "LayoutModel",
      "state": {
       "width": "450px"
      }
     },
     "2cd3cde20aa845f5b3e3c62bc38dfbab": {
      "model_module": "@jupyter-widgets/controls",
      "model_module_version": "1.5.0",
      "model_name": "DescriptionStyleModel",
      "state": {
       "description_width": "150px"
      }
     },
     "2d08f40c5cd9425182c268c4058d21d7": {
      "model_module": "@jupyter-widgets/controls",
      "model_module_version": "1.5.0",
      "model_name": "HTMLModel",
      "state": {
       "layout": "IPY_MODEL_464b563308964371a91e009743d04454",
       "style": "IPY_MODEL_02bc4b27c4064728897f7a6c31c2afb9",
       "value": "<b><font color='black'><font size=3>Потоки</b>"
      }
     },
     "2de7943c02444a14b60cc30727f22738": {
      "model_module": "@jupyter-widgets/controls",
      "model_module_version": "1.5.0",
      "model_name": "HBoxModel",
      "state": {
       "children": [
        "IPY_MODEL_57fb6ee53c5a48d18d93da8ed25f91f1",
        "IPY_MODEL_b216f9c97ba842b6ba4d87b83c47cde5"
       ],
       "layout": "IPY_MODEL_2349ca1e75594ecb968900973ae7b83e"
      }
     },
     "2efc60d618f546fa906a682e6e32a901": {
      "model_module": "@jupyter-widgets/base",
      "model_module_version": "1.2.0",
      "model_name": "LayoutModel",
      "state": {
       "width": "392px"
      }
     },
     "2f646fc0952a4a4c864ff81b558ddcb8": {
      "model_module": "@jupyter-widgets/base",
      "model_module_version": "1.2.0",
      "model_name": "LayoutModel",
      "state": {}
     },
     "301792e787c443bdbe5e1245e4dea3a1": {
      "model_module": "@jupyter-widgets/controls",
      "model_module_version": "1.5.0",
      "model_name": "HTMLModel",
      "state": {
       "layout": "IPY_MODEL_e39a917281f24b1a84abb30c388949cd",
       "style": "IPY_MODEL_52a9aa56cd09457082f97fb764cab8da",
       "value": "<b><font color='black'><font size=3>Даты</b>"
      }
     },
     "30f33fe88da649a8b888dd23873ebc5d": {
      "model_module": "@jupyter-widgets/output",
      "model_module_version": "1.0.0",
      "model_name": "OutputModel",
      "state": {
       "layout": "IPY_MODEL_dc04f3e6527d4c65ba5eda5d8fdbc148",
       "outputs": [
        {
         "data": {
          "application/vnd.jupyter.widget-view+json": {
           "model_id": "678d3d2bbafe49d581fed9a39468c9ce",
           "version_major": 2,
           "version_minor": 0
          },
          "text/plain": "VBox(children=(HBox(children=(Text(value='', description='Короткое название', layout=Layout(width='392px'), st…"
         },
         "metadata": {},
         "output_type": "display_data"
        },
        {
         "data": {
          "application/vnd.jupyter.widget-view+json": {
           "model_id": "53219051b9e24ae18c4e779654a8882f",
           "version_major": 2,
           "version_minor": 0
          },
          "text/plain": "HBox(children=(Button(description='Записать параметры облигации', layout=Layout(width='300px'), style=ButtonSt…"
         },
         "metadata": {},
         "output_type": "display_data"
        },
        {
         "data": {
          "application/vnd.jupyter.widget-view+json": {
           "model_id": "53b7015423c947b2860fecd9a334c2c0",
           "version_major": 2,
           "version_minor": 0
          },
          "text/plain": "Output(msg_id='c47d1761-1f99-43ce-a633-1c3e722e4430')"
         },
         "metadata": {},
         "output_type": "display_data"
        }
       ]
      }
     },
     "3384c1d66972427eb0023dd4c14935df": {
      "model_module": "@jupyter-widgets/base",
      "model_module_version": "1.2.0",
      "model_name": "LayoutModel",
      "state": {}
     },
     "33a5761e31614dba8044098817798d36": {
      "model_module": "@jupyter-widgets/controls",
      "model_module_version": "1.5.0",
      "model_name": "TextModel",
      "state": {
       "description": "Номер худшего актива",
       "layout": "IPY_MODEL_2efc60d618f546fa906a682e6e32a901",
       "style": "IPY_MODEL_85f07d378df44813b04e91046588126c"
      }
     },
     "33b716d771b340d59f14d2621707006c": {
      "model_module": "@jupyter-widgets/controls",
      "model_module_version": "1.5.0",
      "model_name": "HBoxModel",
      "state": {
       "children": [
        "IPY_MODEL_5c23672f2abf44e6a26843900e8fde63",
        "IPY_MODEL_f50a6820075044e1b0c2f2ed0520ba6f"
       ],
       "layout": "IPY_MODEL_f90668adced84d4a9815d3a82dd796d5"
      }
     },
     "33f0cb05152c4973b338c53a0ffa4494": {
      "model_module": "@jupyter-widgets/base",
      "model_module_version": "1.2.0",
      "model_name": "LayoutModel",
      "state": {}
     },
     "3743343912254eb58860179859067d84": {
      "model_module": "@jupyter-widgets/base",
      "model_module_version": "1.2.0",
      "model_name": "LayoutModel",
      "state": {
       "width": "430px"
      }
     },
     "39ab123ff1be47b0b3be6e98fbbfbcdb": {
      "model_module": "@jupyter-widgets/controls",
      "model_module_version": "1.5.0",
      "model_name": "DescriptionStyleModel",
      "state": {
       "description_width": ""
      }
     },
     "3a9d17a141094ed09f141e5d5ff37e98": {
      "model_module": "@jupyter-widgets/base",
      "model_module_version": "1.2.0",
      "model_name": "LayoutModel",
      "state": {}
     },
     "3d357b15c50c4bd1811300e56fd6726f": {
      "model_module": "@jupyter-widgets/base",
      "model_module_version": "1.2.0",
      "model_name": "LayoutModel",
      "state": {
       "width": "430px"
      }
     },
     "3d8b7bb30c054e34832ff1b2066fd3a6": {
      "model_module": "@jupyter-widgets/controls",
      "model_module_version": "1.5.0",
      "model_name": "DescriptionStyleModel",
      "state": {
       "description_width": "150px"
      }
     },
     "3e247e8937244319af400c892f3d199f": {
      "model_module": "@jupyter-widgets/base",
      "model_module_version": "1.2.0",
      "model_name": "LayoutModel",
      "state": {}
     },
     "3e665d9332904430b9e3149f3f69bf01": {
      "model_module": "@jupyter-widgets/controls",
      "model_module_version": "1.5.0",
      "model_name": "DescriptionStyleModel",
      "state": {
       "description_width": "150px"
      }
     },
     "3e9bb157c19149cab2ce1a406b382551": {
      "model_module": "@jupyter-widgets/base",
      "model_module_version": "1.2.0",
      "model_name": "LayoutModel",
      "state": {
       "width": "300px"
      }
     },
     "41aac7a41b9a4b42a323c157c6e562fc": {
      "model_module": "@jupyter-widgets/base",
      "model_module_version": "1.2.0",
      "model_name": "LayoutModel",
      "state": {}
     },
     "41fd2cbc99af4deb856d52c68b7e0e6d": {
      "model_module": "@jupyter-widgets/controls",
      "model_module_version": "1.5.0",
      "model_name": "TextModel",
      "state": {
       "description": "Z-spread эмитента",
       "layout": "IPY_MODEL_bf91949147be4d11802faeb5dfe566bd",
       "style": "IPY_MODEL_4a29b55660d2425e93dea193eb544f1a",
       "value": "0.01"
      }
     },
     "42de21b813cd47f98ed688bdffaf70bd": {
      "model_module": "@jupyter-widgets/base",
      "model_module_version": "1.2.0",
      "model_name": "LayoutModel",
      "state": {}
     },
     "43e8d880951a414dbb8ffe9be2ab44fb": {
      "model_module": "@jupyter-widgets/controls",
      "model_module_version": "1.5.0",
      "model_name": "DescriptionStyleModel",
      "state": {
       "description_width": "150px"
      }
     },
     "441597a621d04013806847bb6ddf418f": {
      "model_module": "@jupyter-widgets/base",
      "model_module_version": "1.2.0",
      "model_name": "LayoutModel",
      "state": {
       "width": "1000px"
      }
     },
     "4577b64840344a399756aa7fb0d2deb5": {
      "model_module": "@jupyter-widgets/base",
      "model_module_version": "1.2.0",
      "model_name": "LayoutModel",
      "state": {
       "width": "200px"
      }
     },
     "464b563308964371a91e009743d04454": {
      "model_module": "@jupyter-widgets/base",
      "model_module_version": "1.2.0",
      "model_name": "LayoutModel",
      "state": {}
     },
     "4786d0a8eb95414291aa2bd4d88f0d73": {
      "model_module": "@jupyter-widgets/controls",
      "model_module_version": "1.5.0",
      "model_name": "DescriptionStyleModel",
      "state": {
       "description_width": ""
      }
     },
     "47b3d063dd47423cb62409e706337a31": {
      "model_module": "@jupyter-widgets/base",
      "model_module_version": "1.2.0",
      "model_name": "LayoutModel",
      "state": {
       "width": "430px"
      }
     },
     "47f6927b2225427f845e396270e47e33": {
      "model_module": "@jupyter-widgets/base",
      "model_module_version": "1.2.0",
      "model_name": "LayoutModel",
      "state": {
       "width": "430px"
      }
     },
     "4871fc7150694c9eb4aa94521fba77e5": {
      "model_module": "@jupyter-widgets/controls",
      "model_module_version": "1.5.0",
      "model_name": "ButtonStyleModel",
      "state": {}
     },
     "498f710a398846e9a988d2102be22c13": {
      "model_module": "@jupyter-widgets/base",
      "model_module_version": "1.2.0",
      "model_name": "LayoutModel",
      "state": {
       "width": "450px"
      }
     },
     "49d402b58c8e46bba89cc36c6828ed01": {
      "model_module": "@jupyter-widgets/controls",
      "model_module_version": "1.5.0",
      "model_name": "GridBoxModel",
      "state": {
       "children": [
        "IPY_MODEL_64932053aa4e40ef9e4c4ea2f5af3855",
        "IPY_MODEL_b0b922cf78194c1a986d23f6545e1ab2",
        "IPY_MODEL_ec332ba03788458cb72df1f3daa118a1",
        "IPY_MODEL_ac7669e7ac004ad6b8bda7bb4648c34a",
        "IPY_MODEL_ce4d3ade44364dcb9ea1217e904707d0"
       ],
       "layout": "IPY_MODEL_5fb525b3ced3419ca35130dc88014ff5"
      }
     },
     "4a0c187250314dc2836dd57290ddbd98": {
      "model_module": "@jupyter-widgets/base",
      "model_module_version": "1.2.0",
      "model_name": "LayoutModel",
      "state": {}
     },
     "4a29b55660d2425e93dea193eb544f1a": {
      "model_module": "@jupyter-widgets/controls",
      "model_module_version": "1.5.0",
      "model_name": "DescriptionStyleModel",
      "state": {
       "description_width": "150px"
      }
     },
     "4a43b943b5df440ab9e1692181c92306": {
      "model_module": "@jupyter-widgets/base",
      "model_module_version": "1.2.0",
      "model_name": "LayoutModel",
      "state": {
       "width": "392px"
      }
     },
     "4c430eb2da5e4ce39a5007b695f049b3": {
      "model_module": "@jupyter-widgets/controls",
      "model_module_version": "1.5.0",
      "model_name": "ButtonStyleModel",
      "state": {}
     },
     "4c660ac5598f43549704a9c323800946": {
      "model_module": "@jupyter-widgets/base",
      "model_module_version": "1.2.0",
      "model_name": "LayoutModel",
      "state": {
       "width": "430px"
      }
     },
     "4d463f6445014e40b5491d25ddfbf42c": {
      "model_module": "@jupyter-widgets/controls",
      "model_module_version": "1.5.0",
      "model_name": "DescriptionStyleModel",
      "state": {
       "description_width": "200px"
      }
     },
     "4dbb5a6d791a4490a0cf58d78781e9c4": {
      "model_module": "@jupyter-widgets/controls",
      "model_module_version": "1.5.0",
      "model_name": "DescriptionStyleModel",
      "state": {
       "description_width": ""
      }
     },
     "4def3e1a2f764cf3ab1f68856e91a6cc": {
      "model_module": "@jupyter-widgets/base",
      "model_module_version": "1.2.0",
      "model_name": "LayoutModel",
      "state": {}
     },
     "4e6c6aad0ac349da9d5f66deab1a3843": {
      "model_module": "@jupyter-widgets/controls",
      "model_module_version": "1.5.0",
      "model_name": "DescriptionStyleModel",
      "state": {
       "description_width": ""
      }
     },
     "501fe6429c43444bb5bd2af4dba60895": {
      "model_module": "@jupyter-widgets/controls",
      "model_module_version": "1.5.0",
      "model_name": "HBoxModel",
      "state": {
       "children": [
        "IPY_MODEL_27fe3e6dae414367854fffc6c0b4f81a",
        "IPY_MODEL_6cdc1ecb4aae4210b89bca2471ed31fc"
       ],
       "layout": "IPY_MODEL_873bf6f36bf04292baf9120f55e441d2"
      }
     },
     "505fca49af6941538629f1bfa8046783": {
      "model_module": "@jupyter-widgets/controls",
      "model_module_version": "1.5.0",
      "model_name": "DescriptionStyleModel",
      "state": {
       "description_width": ""
      }
     },
     "507bbcd9d2b54196bb798f3b9b6abf1a": {
      "model_module": "@jupyter-widgets/base",
      "model_module_version": "1.2.0",
      "model_name": "LayoutModel",
      "state": {
       "width": "430px"
      }
     },
     "50fa5c4cfd4e4d42a960926528213813": {
      "model_module": "@jupyter-widgets/base",
      "model_module_version": "1.2.0",
      "model_name": "LayoutModel",
      "state": {
       "width": "392px"
      }
     },
     "51a2e30615c34f45a03c7cf6d7e41886": {
      "model_module": "@jupyter-widgets/controls",
      "model_module_version": "1.5.0",
      "model_name": "DescriptionStyleModel",
      "state": {
       "description_width": "230px"
      }
     },
     "51eeea2543364be2bc7c88810c78c5c9": {
      "model_module": "@jupyter-widgets/base",
      "model_module_version": "1.2.0",
      "model_name": "LayoutModel",
      "state": {
       "width": "392px"
      }
     },
     "52a9aa56cd09457082f97fb764cab8da": {
      "model_module": "@jupyter-widgets/controls",
      "model_module_version": "1.5.0",
      "model_name": "DescriptionStyleModel",
      "state": {
       "description_width": ""
      }
     },
     "53219051b9e24ae18c4e779654a8882f": {
      "model_module": "@jupyter-widgets/controls",
      "model_module_version": "1.5.0",
      "model_name": "HBoxModel",
      "state": {
       "children": [
        "IPY_MODEL_57fb6ee53c5a48d18d93da8ed25f91f1",
        "IPY_MODEL_b216f9c97ba842b6ba4d87b83c47cde5"
       ],
       "layout": "IPY_MODEL_ea1a6d56a7c54047989838f8eb7d896b"
      }
     },
     "53b7015423c947b2860fecd9a334c2c0": {
      "model_module": "@jupyter-widgets/output",
      "model_module_version": "1.0.0",
      "model_name": "OutputModel",
      "state": {
       "layout": "IPY_MODEL_4a0c187250314dc2836dd57290ddbd98",
       "outputs": [
        {
         "data": {
          "application/vnd.jupyter.widget-view+json": {
           "model_id": "0143daeaeab44f719ea54542c64f1951",
           "version_major": 2,
           "version_minor": 0
          },
          "text/plain": "Text(value='10', description='Число окон в истории', layout=Layout(width='392px'), style=DescriptionStyle(desc…"
         },
         "metadata": {},
         "output_type": "display_data"
        },
        {
         "data": {
          "application/vnd.jupyter.widget-view+json": {
           "model_id": "dddc1284a10c4bc381287915c5be9e79",
           "version_major": 2,
           "version_minor": 0
          },
          "text/plain": "Text(value='10', description='Число испытаний в каждом окне', layout=Layout(width='392px'), style=DescriptionS…"
         },
         "metadata": {},
         "output_type": "display_data"
        },
        {
         "data": {
          "application/vnd.jupyter.widget-view+json": {
           "model_id": "d4c57ec56e6e4bb1ab9eea88def3ddad",
           "version_major": 2,
           "version_minor": 0
          },
          "text/plain": "Checkbox(value=False, description='Использовать нормальное распределение', layout=Layout(width='430px'))"
         },
         "metadata": {},
         "output_type": "display_data"
        },
        {
         "data": {
          "application/vnd.jupyter.widget-view+json": {
           "model_id": "f56bd92d53b94552bfb62be7a5cf39e9",
           "version_major": 2,
           "version_minor": 0
          },
          "text/plain": "Button(description='Записать параметры расчета', layout=Layout(width='300px'), style=ButtonStyle())"
         },
         "metadata": {},
         "output_type": "display_data"
        },
        {
         "data": {
          "application/vnd.jupyter.widget-view+json": {
           "model_id": "274270a9beba4dba84921ad948c34821",
           "version_major": 2,
           "version_minor": 0
          },
          "text/plain": "Button(description='Запустить расчет', layout=Layout(width='300px'), style=ButtonStyle())"
         },
         "metadata": {},
         "output_type": "display_data"
        },
        {
         "data": {
          "application/vnd.jupyter.widget-view+json": {
           "model_id": "69950f9471d740689c67bebe4ae897d9",
           "version_major": 2,
           "version_minor": 0
          },
          "text/plain": "Output()"
         },
         "metadata": {},
         "output_type": "display_data"
        }
       ]
      }
     },
     "55e9c9ab7d974eaa898255ffb87b03cb": {
      "model_module": "@jupyter-widgets/base",
      "model_module_version": "1.2.0",
      "model_name": "LayoutModel",
      "state": {
       "width": "392px"
      }
     },
     "563da3c893054ffd94ccbd8c51c52cee": {
      "model_module": "@jupyter-widgets/base",
      "model_module_version": "1.2.0",
      "model_name": "LayoutModel",
      "state": {
       "width": "300px"
      }
     },
     "57fb6ee53c5a48d18d93da8ed25f91f1": {
      "model_module": "@jupyter-widgets/controls",
      "model_module_version": "1.5.0",
      "model_name": "ButtonModel",
      "state": {
       "description": "Записать параметры облигации",
       "layout": "IPY_MODEL_3e9bb157c19149cab2ce1a406b382551",
       "style": "IPY_MODEL_4871fc7150694c9eb4aa94521fba77e5"
      }
     },
     "5a9f25fec1d740bea77889bb9659e91d": {
      "model_module": "@jupyter-widgets/controls",
      "model_module_version": "1.5.0",
      "model_name": "HTMLModel",
      "state": {
       "layout": "IPY_MODEL_5ee129662782444a81f32ba7dc5a3181",
       "style": "IPY_MODEL_a1faa5cad6e04e33a8048ace11445728",
       "value": "<b><font color='black'><font size=3>Базовые активы</b>"
      }
     },
     "5ac4e8e2d98e492385da7c5a2fb60199": {
      "model_module": "@jupyter-widgets/controls",
      "model_module_version": "1.5.0",
      "model_name": "DescriptionStyleModel",
      "state": {
       "description_width": "150px"
      }
     },
     "5b140f7a86f340f0b412376c0e5c695b": {
      "model_module": "@jupyter-widgets/controls",
      "model_module_version": "1.5.0",
      "model_name": "HTMLModel",
      "state": {
       "layout": "IPY_MODEL_3384c1d66972427eb0023dd4c14935df",
       "style": "IPY_MODEL_f0d7279d2f394a88a5b323dfcd8b3173",
       "value": "<b><font color='black'><font size=3>Другие параметры</b>"
      }
     },
     "5c23672f2abf44e6a26843900e8fde63": {
      "model_module": "@jupyter-widgets/controls",
      "model_module_version": "1.5.0",
      "model_name": "CheckboxModel",
      "state": {
       "description": "Доход корректируется на курс USD",
       "disabled": false,
       "layout": "IPY_MODEL_2caa1de9ddcd41f49441738c10899bda",
       "style": "IPY_MODEL_6a9f69efe4ac4e52b6efd179aac1abe0",
       "value": true
      }
     },
     "5dc77195a0124d59ad859fe5094990a2": {
      "model_module": "@jupyter-widgets/controls",
      "model_module_version": "1.5.0",
      "model_name": "TextModel",
      "state": {
       "description": "Начальный барьер",
       "layout": "IPY_MODEL_f3d56a386e3b42fdaa79d68dc9bc15cb",
       "style": "IPY_MODEL_b63ef5f5bfb94542aa04ccaafa5ee597",
       "value": "1"
      }
     },
     "5ee129662782444a81f32ba7dc5a3181": {
      "model_module": "@jupyter-widgets/base",
      "model_module_version": "1.2.0",
      "model_name": "LayoutModel",
      "state": {}
     },
     "5fb525b3ced3419ca35130dc88014ff5": {
      "model_module": "@jupyter-widgets/base",
      "model_module_version": "1.2.0",
      "model_name": "LayoutModel",
      "state": {
       "width": "300px"
      }
     },
     "60ec8af20c30490594f2cb4844eb475e": {
      "model_module": "@jupyter-widgets/base",
      "model_module_version": "1.2.0",
      "model_name": "LayoutModel",
      "state": {
       "width": "392px"
      }
     },
     "60fb4bad0dd640c5a16af297e56245cc": {
      "model_module": "@jupyter-widgets/controls",
      "model_module_version": "1.5.0",
      "model_name": "HBoxModel",
      "state": {
       "children": [
        "IPY_MODEL_7dff4ca8b17b4b5db3f5f0240d5ca024",
        "IPY_MODEL_9886737cfee84b32ae22c2b33dc632b5"
       ],
       "layout": "IPY_MODEL_d96f840a22c74943a4caa5c5d9103a4e"
      }
     },
     "62042f4a1eaa478b85781e08975da5d8": {
      "model_module": "@jupyter-widgets/base",
      "model_module_version": "1.2.0",
      "model_name": "LayoutModel",
      "state": {
       "width": "500px"
      }
     },
     "620f55d932224d8ab09631d3690c7f0e": {
      "model_module": "@jupyter-widgets/controls",
      "model_module_version": "1.5.0",
      "model_name": "HBoxModel",
      "state": {
       "children": [
        "IPY_MODEL_fdde4127a58740b79f3e6460eb22a86d",
        "IPY_MODEL_709c091b6b1840ec8d43edf8537d19b8"
       ],
       "layout": "IPY_MODEL_ab7b2c29123d4ba88655969e15081ab5"
      }
     },
     "63d317856f924812b5cee1cfd3ba78cf": {
      "model_module": "@jupyter-widgets/controls",
      "model_module_version": "1.5.0",
      "model_name": "HBoxModel",
      "state": {
       "children": [
        "IPY_MODEL_83ac3129d07649b0b078a492fbf2dba2",
        "IPY_MODEL_bf65a7fbc31645c4938db1947cb840ce"
       ],
       "layout": "IPY_MODEL_1b0f7d24ca874b3db4da9b733c04f9cb"
      }
     },
     "63debd7f788d43bf9b8c91390a329b5b": {
      "model_module": "@jupyter-widgets/controls",
      "model_module_version": "1.5.0",
      "model_name": "HBoxModel",
      "state": {
       "children": [
        "IPY_MODEL_fe745947395144eda0c79b363e86b78a",
        "IPY_MODEL_13abc83e29a44048898866570b68cac9"
       ],
       "layout": "IPY_MODEL_2f646fc0952a4a4c864ff81b558ddcb8"
      }
     },
     "64932053aa4e40ef9e4c4ea2f5af3855": {
      "model_module": "@jupyter-widgets/controls",
      "model_module_version": "1.5.0",
      "model_name": "LabelModel",
      "state": {
       "layout": "IPY_MODEL_4def3e1a2f764cf3ab1f68856e91a6cc",
       "style": "IPY_MODEL_39ab123ff1be47b0b3be6e98fbbfbcdb",
       "value": "1-Даты наблюдений в виде 1:6 для дат с 1 по 6"
      }
     },
     "6527361ecd734b71aae832bb3facc94b": {
      "model_module": "@jupyter-widgets/base",
      "model_module_version": "1.2.0",
      "model_name": "LayoutModel",
      "state": {
       "width": "300px"
      }
     },
     "678d3d2bbafe49d581fed9a39468c9ce": {
      "model_module": "@jupyter-widgets/controls",
      "model_module_version": "1.5.0",
      "model_name": "VBoxModel",
      "state": {
       "children": [
        "IPY_MODEL_f7616ebd98204d01b85818aba4163025",
        "IPY_MODEL_d52cdf42bcc447d3948f26d3be1071c8",
        "IPY_MODEL_b83b060be0644ecea824f0580d291fb8",
        "IPY_MODEL_9acfe569cb9d42d593a32f47ea3303ba",
        "IPY_MODEL_e7b4bec6bde44306bb89a5cd79548fa6",
        "IPY_MODEL_bb5bbd95d8424ecb8211f764f1932119",
        "IPY_MODEL_97cd90b370c74ebb99398db4f0388550",
        "IPY_MODEL_5a9f25fec1d740bea77889bb9659e91d",
        "IPY_MODEL_26ebb63e6908403691e4a3095e57d8f2",
        "IPY_MODEL_9185a21132fc48bbbeacab3459501a3d",
        "IPY_MODEL_072393eb0f754c8cb6613a0714f4da5b",
        "IPY_MODEL_c4c1918613e2417b9df9b7f9f7b844a3",
        "IPY_MODEL_2d08f40c5cd9425182c268c4058d21d7",
        "IPY_MODEL_7bdb3061c4cb4b3daefb67d4cc7a4845",
        "IPY_MODEL_781419d0997c43fb8e4ca967de0abc5e",
        "IPY_MODEL_822a06710bab40e391ec5dd3986bfa0c",
        "IPY_MODEL_5b140f7a86f340f0b412376c0e5c695b",
        "IPY_MODEL_33b716d771b340d59f14d2621707006c",
        "IPY_MODEL_ab158771cf4443e68c5346781734fe82",
        "IPY_MODEL_98c1fe6be113466cb7d54db1f8edd08b"
       ],
       "layout": "IPY_MODEL_810a5b2cd4ea4ff8beff25ef4262c024"
      }
     },
     "69950f9471d740689c67bebe4ae897d9": {
      "model_module": "@jupyter-widgets/output",
      "model_module_version": "1.0.0",
      "model_name": "OutputModel",
      "state": {
       "layout": "IPY_MODEL_f8700920320543939839fcc5c2a4a061",
       "outputs": [
        {
         "name": "stdout",
         "output_type": "stream",
         "text": "Закончена работа функции cr_prices()\nПроверьте, что:\nвыгрузились цены по всем базовым активам,\nисторических значений достаточно для анализа, \nнет цен после даты анализа\n                NESN.SW          T        XOM         JNJ          PG  \\\nDate                                                                   \n2007-01-04   43.450001  34.500000  72.720001   67.230003   64.050003   \n2007-01-05   42.825001  33.959999  73.239998   66.620003   63.500000   \n2007-01-08   42.650002  33.810001  72.650002   66.510002   63.639999   \n2007-01-09   42.799999  33.939999  72.089996   66.260002   63.480000   \n2007-01-10   43.000000  34.029999  70.989998   66.150002   64.239998   \n...                ...        ...        ...         ...         ...   \n2020-06-17  107.919998  30.260000  46.630001  144.020004  117.930000   \n2020-06-18  106.839996  30.350000  46.919998  143.410004  119.279999   \n2020-06-19  107.500000  30.309999  45.980000  143.830002  118.919998   \n2020-06-22  106.580002  30.110001  46.419998  143.389999  117.750000   \n2020-06-23  106.500000  30.250000  46.700001  142.860001  117.730003   \n\n               USDRUB  \nDate                   \n2007-01-04  26.389000  \n2007-01-05  26.465000  \n2007-01-08  26.469999  \n2007-01-09  26.483000  \n2007-01-10  26.546000  \n...               ...  \n2020-06-17  69.727997  \n2020-06-18  69.920197  \n2020-06-19  69.920197  \n2020-06-22  69.091797  \n2020-06-23  68.724297  \n\n[3472 rows x 6 columns] \n\nПроверьте корректность: \nВ 2018 получилось 258 торговых дней (должно быть 250-260)\n"
        },
        {
         "data": {
          "image/png": "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\n",
          "text/plain": "<Figure size 1440x504 with 1 Axes>"
         },
         "metadata": {
          "needs_background": "light"
         },
         "output_type": "display_data"
        },
        {
         "name": "stdout",
         "output_type": "stream",
         "text": "Закончена работа функции cr_rets()\nДоходности базовых активов\n              NESN.SW         T       XOM       JNJ        PG    USDRUB\nDate                                                                  \n2007-01-05 -0.014489 -0.015776  0.007125 -0.009115 -0.008624  0.002876\n2007-01-08 -0.004095 -0.004427 -0.008088 -0.001653  0.002202  0.000189\n2007-01-09  0.003511  0.003838 -0.007738 -0.003766 -0.002517  0.000491\n2007-01-10  0.004662  0.002648 -0.015376 -0.001662  0.011901  0.002376\n2007-01-11  0.010411  0.013427 -0.000141  0.008730  0.006207  0.001919\n...              ...       ...       ...       ...       ...       ...\n2020-06-17  0.031055 -0.017038 -0.033115 -0.003050 -0.001694  0.002026\n2020-06-18 -0.010058  0.002970  0.006200 -0.004245  0.011382  0.002753\n2020-06-19  0.006158 -0.001319 -0.020237  0.002924 -0.003023  0.000000\n2020-06-22 -0.008595 -0.006620  0.009524 -0.003064 -0.009887 -0.011919\n2020-06-23 -0.000751  0.004639  0.006014 -0.003703 -0.000170 -0.005333\n\n[3471 rows x 6 columns] \n\nЗакончена работа функции cr_calendar()\nСоздан календарь рабочих дней\nПроверьте, что в календаре нет выходных\n Date\n2007-01-04    NaN\n2007-01-05    NaN\n2007-01-08    NaN\n2007-01-09    NaN\n2007-01-10    NaN\n             ... \n2050-12-26    NaN\n2050-12-27    NaN\n2050-12-28    NaN\n2050-12-29    NaN\n2050-12-30    NaN\nLength: 11227, dtype: object \n\nЗакончена работа функции cr_days_to_generate()\nПроверьте корректность расчета следующих атрибутов sp.bond:\n MaxOf2  2023-06-29  - последняя дата, на которую требуются прогнозные цены активов\n days_to_generate  767  - число дней, на которые требуются прогнозные цены активов\n\nЗакончена работа функции cr_dates_years()\nПроверьте корректность полных лет до дат выплат купонов (для дисконтирования, на исторические отрицательные значения не нужно обращать внимание)\n [0, 0.5174537987679672, 1.0157426420260096, 1.516769336071184, 2.0150581793292264, 2.516084873374401, 3.0143737166324436] \n\nЗакончена работа функции cr_rf_rate()\nПроверьте, что безрисковые ставки выгрузились корректно для каждой даты выплаты купонов\n [0.041444999999999996, 0.042613000000000005, 0.043644999999999996, 0.04465499999999999, 0.045675, 0.046671] \n\nЗакончена работа функции cr_windows()\nДлина каждого окна получилась  767 \nНачальные дни окон для нарезки исторических данных\n [   0  300  600  901 1201 1502 1802 2103 2403 2704] \n\nЗакончена работа функции cr_hist_yields()\nДоходности базовых активов с даты выпуска по дату анализа\n              NESN.SW         T       XOM       JNJ       PG    USDRUB\nDate                                                                 \n2020-06-23 -0.000751  0.004639  0.006014 -0.003703 -0.00017 -0.005333 \n\nЗапущен метод объекта облигации по расчету исторических параметров bond.hist(bond.yields, bond.start_obs, bond.ansys_date)\nНеобходимо проверить корректность рассчитываемых значений\n\nCalc prices\n NESN.SW    106.500000\nT           30.250000\nXOM         46.700001\nJNJ        142.860001\nPG         117.730003\nName: 2020-06-23 00:00:00, dtype: float64\nFact prices\n NESN.SW    106.500000\nT           30.250000\nXOM         46.700001\nJNJ        142.860001\nPG         117.730003\nName: 2020-06-23 00:00:00, dtype: float64\ninit_not_paid 0\nhist_prices:\n NESN.SW    1.0\nT          1.0\nXOM        1.0\nJNJ        1.0\nPG         1.0\nName: 2020-06-23 00:00:00, dtype: float64\nusd 1.0\nMonte-Carlo is launched\n0% completed\n10% completed\n20% completed\n30% completed\n40% completed\n50% completed\n60% completed\n70% completed\n80% completed\n90% completed\n100% completed\nУсредненные по всем сценариям купоны\n 0    14.448781\n1    19.906975\n2    22.557586\n3    31.716542\n4    21.362594\n5    24.996505\ndtype: float64\nDone\n"
        },
        {
         "data": {
          "image/png": "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\n",
          "text/plain": "<Figure size 720x576 with 1 Axes>"
         },
         "metadata": {
          "needs_background": "light"
         },
         "output_type": "display_data"
        }
       ]
      }
     },
     "69c2d2a97b264621a637477f6ca31adf": {
      "model_module": "@jupyter-widgets/base",
      "model_module_version": "1.2.0",
      "model_name": "LayoutModel",
      "state": {
       "width": "300px"
      }
     },
     "6a9f69efe4ac4e52b6efd179aac1abe0": {
      "model_module": "@jupyter-widgets/controls",
      "model_module_version": "1.5.0",
      "model_name": "DescriptionStyleModel",
      "state": {
       "description_width": ""
      }
     },
     "6b2f3cb9be17463a974fbd38337bdd70": {
      "model_module": "@jupyter-widgets/base",
      "model_module_version": "1.2.0",
      "model_name": "LayoutModel",
      "state": {
       "width": "500px"
      }
     },
     "6c325df2a8e147cca668e5d2a1f90bfc": {
      "model_module": "@jupyter-widgets/controls",
      "model_module_version": "1.5.0",
      "model_name": "DescriptionStyleModel",
      "state": {
       "description_width": ""
      }
     },
     "6cdc1ecb4aae4210b89bca2471ed31fc": {
      "model_module": "@jupyter-widgets/controls",
      "model_module_version": "1.5.0",
      "model_name": "TextModel",
      "state": {
       "description": "ISIN",
       "layout": "IPY_MODEL_3743343912254eb58860179859067d84",
       "style": "IPY_MODEL_71d2a9653a8d47b28cc253c27d164cf5",
       "value": "RU000A101QR2"
      }
     },
     "6d19320842bb45caa4116fcef1993f8c": {
      "model_module": "@jupyter-widgets/base",
      "model_module_version": "1.2.0",
      "model_name": "LayoutModel",
      "state": {}
     },
     "707f228727ed4726afe1a17c2772d6db": {
      "model_module": "@jupyter-widgets/controls",
      "model_module_version": "1.5.0",
      "model_name": "DescriptionStyleModel",
      "state": {
       "description_width": ""
      }
     },
     "709c091b6b1840ec8d43edf8537d19b8": {
      "model_module": "@jupyter-widgets/controls",
      "model_module_version": "1.5.0",
      "model_name": "TextModel",
      "state": {
       "description": "Фиксированные потоки",
       "layout": "IPY_MODEL_3d357b15c50c4bd1811300e56fd6726f",
       "style": "IPY_MODEL_ed82aa95a0c344618d9e225bdfc52373",
       "value": "0.0 0.0 0.0 0.0 0.0 1000.3"
      }
     },
     "71d2a9653a8d47b28cc253c27d164cf5": {
      "model_module": "@jupyter-widgets/controls",
      "model_module_version": "1.5.0",
      "model_name": "DescriptionStyleModel",
      "state": {
       "description_width": "150px"
      }
     },
     "7201605ec723452bbce6e3c77244f2cc": {
      "model_module": "@jupyter-widgets/controls",
      "model_module_version": "1.5.0",
      "model_name": "HBoxModel",
      "state": {
       "children": [
        "IPY_MODEL_c31ff4208cb04813b12f5a590dd06152",
        "IPY_MODEL_b531024be2ef4fcea682c2db9bf5d102"
       ],
       "layout": "IPY_MODEL_f4233b1272c7480ebd4397de0ef769de"
      }
     },
     "74119eda7d6a4f35ba154bee530f64cc": {
      "model_module": "@jupyter-widgets/controls",
      "model_module_version": "1.5.0",
      "model_name": "DescriptionStyleModel",
      "state": {
       "description_width": "150px"
      }
     },
     "76d3e9a24ca34d119ad42dcda0b01a12": {
      "model_module": "@jupyter-widgets/base",
      "model_module_version": "1.2.0",
      "model_name": "LayoutModel",
      "state": {
       "width": "392px"
      }
     },
     "776b3476f4ab49b4ae23d9d5e5f58cc6": {
      "model_module": "@jupyter-widgets/controls",
      "model_module_version": "1.5.0",
      "model_name": "DropdownModel",
      "state": {
       "_options_labels": [
        "Не выбрано",
        "На дату выплаты каждого купона",
        "Средняя за 1-е рабочие дни",
        "В конце срока обращения"
       ],
       "description": "Расчетная цена",
       "index": 0,
       "layout": "IPY_MODEL_f09dc89f13864b7390d39de1f2905466",
       "style": "IPY_MODEL_bd0cfbfeda454a228c8d02d29ad47f65"
      }
     },
     "781419d0997c43fb8e4ca967de0abc5e": {
      "model_module": "@jupyter-widgets/controls",
      "model_module_version": "1.5.0",
      "model_name": "HBoxModel",
      "state": {
       "children": [
        "IPY_MODEL_96fde496b5f048698d73791250063c1b",
        "IPY_MODEL_41fd2cbc99af4deb856d52c68b7e0e6d"
       ],
       "layout": "IPY_MODEL_3e247e8937244319af400c892f3d199f"
      }
     },
     "78483a8bbe2f465badaf0861e5948e48": {
      "model_module": "@jupyter-widgets/controls",
      "model_module_version": "1.5.0",
      "model_name": "CheckboxModel",
      "state": {
       "description": "Наблюдение на каждый рабочий день",
       "disabled": false,
       "layout": "IPY_MODEL_498f710a398846e9a988d2102be22c13",
       "style": "IPY_MODEL_4dbb5a6d791a4490a0cf58d78781e9c4",
       "value": false
      }
     },
     "78a0ffc5a4494016815287f6d3c00f45": {
      "model_module": "@jupyter-widgets/controls",
      "model_module_version": "1.5.0",
      "model_name": "TextModel",
      "state": {
       "description": "Поставка худшего актива(барьер кол-во)",
       "layout": "IPY_MODEL_01d40550eb4a43b59a48efc008a1d225",
       "style": "IPY_MODEL_4d463f6445014e40b5491d25ddfbf42c"
      }
     },
     "7bdb3061c4cb4b3daefb67d4cc7a4845": {
      "model_module": "@jupyter-widgets/controls",
      "model_module_version": "1.5.0",
      "model_name": "HBoxModel",
      "state": {
       "children": [
        "IPY_MODEL_fdde4127a58740b79f3e6460eb22a86d",
        "IPY_MODEL_709c091b6b1840ec8d43edf8537d19b8"
       ],
       "layout": "IPY_MODEL_c11a47d94c404a90bcd36ce5e80cd417"
      }
     },
     "7cb936e5c82a43509176de5d3afc5eae": {
      "model_module": "@jupyter-widgets/controls",
      "model_module_version": "1.5.0",
      "model_name": "CheckboxModel",
      "state": {
       "description": "Расчет на основе корзины активов",
       "disabled": false,
       "layout": "IPY_MODEL_6b2f3cb9be17463a974fbd38337bdd70",
       "style": "IPY_MODEL_26b3938ee76e4d6b9f57e68803af97ff",
       "value": false
      }
     },
     "7d7b1fcd49fc454a9138345d99c5bd32": {
      "model_module": "@jupyter-widgets/controls",
      "model_module_version": "1.5.0",
      "model_name": "VBoxModel",
      "state": {
       "children": [
        "IPY_MODEL_fbc66a2180f0438596835a8da728470f",
        "IPY_MODEL_f8842a4e51624dd3819b4f1d8c035ff0",
        "IPY_MODEL_60fb4bad0dd640c5a16af297e56245cc",
        "IPY_MODEL_30f33fe88da649a8b888dd23873ebc5d"
       ],
       "layout": "IPY_MODEL_19fbc7825acb4844b2bf2f6a467743b2"
      }
     },
     "7dedcd36cbb0445dba771f952d85117e": {
      "model_module": "@jupyter-widgets/controls",
      "model_module_version": "1.5.0",
      "model_name": "DescriptionStyleModel",
      "state": {
       "description_width": ""
      }
     },
     "7dff4ca8b17b4b5db3f5f0240d5ca024": {
      "model_module": "@jupyter-widgets/controls",
      "model_module_version": "1.5.0",
      "model_name": "ButtonModel",
      "state": {
       "description": "Создать облигацию",
       "layout": "IPY_MODEL_b90a247c25534a34b088e40cc4dc13a6",
       "style": "IPY_MODEL_db154b488f6e4c809983bf0f829a4c77"
      }
     },
     "7fa0e24290c74d4eaac3697694f7002f": {
      "model_module": "@jupyter-widgets/controls",
      "model_module_version": "1.5.0",
      "model_name": "DescriptionStyleModel",
      "state": {
       "description_width": "200px"
      }
     },
     "810a5b2cd4ea4ff8beff25ef4262c024": {
      "model_module": "@jupyter-widgets/base",
      "model_module_version": "1.2.0",
      "model_name": "LayoutModel",
      "state": {
       "width": "1000px"
      }
     },
     "818b5d9301ae44248c8bb3e938b251bd": {
      "model_module": "@jupyter-widgets/base",
      "model_module_version": "1.2.0",
      "model_name": "LayoutModel",
      "state": {}
     },
     "822a06710bab40e391ec5dd3986bfa0c": {
      "model_module": "@jupyter-widgets/controls",
      "model_module_version": "1.5.0",
      "model_name": "DropdownModel",
      "state": {
       "_options_labels": [
        "указанной стоимости",
        "справедливой стоимости"
       ],
       "description": "Распределение YTM считать к",
       "index": 0,
       "layout": "IPY_MODEL_069c5352c71c488584b380644928cefc",
       "style": "IPY_MODEL_9b0c90afadc943fabb76f0d2f2d04b5a"
      }
     },
     "833057b0c2b240bfbc0d16b43b454c6f": {
      "model_module": "@jupyter-widgets/base",
      "model_module_version": "1.2.0",
      "model_name": "LayoutModel",
      "state": {
       "width": "430px"
      }
     },
     "8357722de7804f5981498f9961ae39c5": {
      "model_module": "@jupyter-widgets/base",
      "model_module_version": "1.2.0",
      "model_name": "LayoutModel",
      "state": {
       "width": "392px"
      }
     },
     "83ac3129d07649b0b078a492fbf2dba2": {
      "model_module": "@jupyter-widgets/controls",
      "model_module_version": "1.5.0",
      "model_name": "TextModel",
      "state": {
       "description": "Ставка доп. дохода",
       "layout": "IPY_MODEL_d370aefdcefc4168b3882a388244c129",
       "style": "IPY_MODEL_2457212de2f043dc914ca0409227ae97",
       "value": "0.038"
      }
     },
     "83d2b4adbe5b40e786196ef04bc47c25": {
      "model_module": "@jupyter-widgets/controls",
      "model_module_version": "1.5.0",
      "model_name": "DescriptionStyleModel",
      "state": {
       "description_width": "200px"
      }
     },
     "85cbd2b4c8bf45febb3e655d66efb7ea": {
      "model_module": "@jupyter-widgets/base",
      "model_module_version": "1.2.0",
      "model_name": "LayoutModel",
      "state": {
       "width": "450px"
      }
     },
     "85f07d378df44813b04e91046588126c": {
      "model_module": "@jupyter-widgets/controls",
      "model_module_version": "1.5.0",
      "model_name": "DescriptionStyleModel",
      "state": {
       "description_width": "200px"
      }
     },
     "873bf6f36bf04292baf9120f55e441d2": {
      "model_module": "@jupyter-widgets/base",
      "model_module_version": "1.2.0",
      "model_name": "LayoutModel",
      "state": {}
     },
     "87e3ab4ba9e7481fb5705e56b7301a6e": {
      "model_module": "@jupyter-widgets/controls",
      "model_module_version": "1.5.0",
      "model_name": "VBoxModel",
      "state": {
       "children": [
        "IPY_MODEL_501fe6429c43444bb5bd2af4dba60895",
        "IPY_MODEL_d52cdf42bcc447d3948f26d3be1071c8",
        "IPY_MODEL_301792e787c443bdbe5e1245e4dea3a1",
        "IPY_MODEL_2426fc3c39364939854f8a27f9f59c1f",
        "IPY_MODEL_169902bbc93144128b95043eeb0f6656",
        "IPY_MODEL_63debd7f788d43bf9b8c91390a329b5b",
        "IPY_MODEL_97cd90b370c74ebb99398db4f0388550",
        "IPY_MODEL_d063f034a0664a88ac50a71f30af1105",
        "IPY_MODEL_cf8cd76a01b94241b35d9c4869097da4",
        "IPY_MODEL_9185a21132fc48bbbeacab3459501a3d",
        "IPY_MODEL_99381716fd874c48b0b8a14c6394d49a",
        "IPY_MODEL_7201605ec723452bbce6e3c77244f2cc",
        "IPY_MODEL_2a6cc1f125cb4f29827d3c5f4c7a7431",
        "IPY_MODEL_620f55d932224d8ab09631d3690c7f0e",
        "IPY_MODEL_c022cced85fd45bf8ba7163e072fd3db",
        "IPY_MODEL_822a06710bab40e391ec5dd3986bfa0c",
        "IPY_MODEL_dc8cbb55392a471b8dfa8ea8e2bba171",
        "IPY_MODEL_90f323a14e7a4ad684a5fffe78906e01",
        "IPY_MODEL_63d317856f924812b5cee1cfd3ba78cf",
        "IPY_MODEL_98c1fe6be113466cb7d54db1f8edd08b"
       ],
       "layout": "IPY_MODEL_441597a621d04013806847bb6ddf418f"
      }
     },
     "8ae29353784444fcad87caeeb808d919": {
      "model_module": "@jupyter-widgets/base",
      "model_module_version": "1.2.0",
      "model_name": "LayoutModel",
      "state": {}
     },
     "8cd3c04095844ab4a24debd2172d42b7": {
      "model_module": "@jupyter-widgets/controls",
      "model_module_version": "1.5.0",
      "model_name": "TextareaModel",
      "state": {
       "layout": "IPY_MODEL_c82ebe0ca209468abb70b07a47e2dce1",
       "style": "IPY_MODEL_92ba3cbc84074e8498f012a153ad0d5f"
      }
     },
     "8d96b5a616004148802365d45ac9a200": {
      "model_module": "@jupyter-widgets/base",
      "model_module_version": "1.2.0",
      "model_name": "LayoutModel",
      "state": {}
     },
     "8e54d0ba79164cb2ae8a4ee4b4f0619e": {
      "model_module": "@jupyter-widgets/base",
      "model_module_version": "1.2.0",
      "model_name": "LayoutModel",
      "state": {
       "width": "392px"
      }
     },
     "8e9dbc8c8ee54c5c88d3c3f81feef53f": {
      "model_module": "@jupyter-widgets/controls",
      "model_module_version": "1.5.0",
      "model_name": "TextModel",
      "state": {
       "description": "Дата выпуска",
       "layout": "IPY_MODEL_50fa5c4cfd4e4d42a960926528213813",
       "style": "IPY_MODEL_d2c7e3d3a5b34f269b9cfe414b72cf07",
       "value": "2020-06-30"
      }
     },
     "8f6f04b488e14fd9b1e88292a4a33c91": {
      "model_module": "@jupyter-widgets/controls",
      "model_module_version": "1.5.0",
      "model_name": "DescriptionStyleModel",
      "state": {
       "description_width": "230px"
      }
     },
     "8f8a9e03cf5b4274926d2cc721951f3c": {
      "model_module": "@jupyter-widgets/controls",
      "model_module_version": "1.5.0",
      "model_name": "DescriptionStyleModel",
      "state": {
       "description_width": "200px"
      }
     },
     "90f323a14e7a4ad684a5fffe78906e01": {
      "model_module": "@jupyter-widgets/controls",
      "model_module_version": "1.5.0",
      "model_name": "HBoxModel",
      "state": {
       "children": [
        "IPY_MODEL_5c23672f2abf44e6a26843900e8fde63",
        "IPY_MODEL_f50a6820075044e1b0c2f2ed0520ba6f"
       ],
       "layout": "IPY_MODEL_b0f6c526fd544d979591f7f3b5eb3715"
      }
     },
     "9185a21132fc48bbbeacab3459501a3d": {
      "model_module": "@jupyter-widgets/controls",
      "model_module_version": "1.5.0",
      "model_name": "TextModel",
      "state": {
       "description": "Страны базовых активов (US, RU, DE)",
       "layout": "IPY_MODEL_e3e7b71cf4404adeaffbb54ab3687f75",
       "style": "IPY_MODEL_cc08a2d524d74c5095ce9169b2497657"
      }
     },
     "92ba3cbc84074e8498f012a153ad0d5f": {
      "model_module": "@jupyter-widgets/controls",
      "model_module_version": "1.5.0",
      "model_name": "DescriptionStyleModel",
      "state": {
       "description_width": "200px"
      }
     },
     "9330ab7c70c94d779ef157216a577d17": {
      "model_module": "@jupyter-widgets/controls",
      "model_module_version": "1.5.0",
      "model_name": "TextModel",
      "state": {
       "description": "Floor",
       "layout": "IPY_MODEL_f797829b61444a8cb23dc5c226197b3c",
       "style": "IPY_MODEL_deef11edcf514c83ba0756dcac422591",
       "value": "0"
      }
     },
     "94a0e77437e9481180a543ff779cc8f7": {
      "model_module": "@jupyter-widgets/controls",
      "model_module_version": "1.5.0",
      "model_name": "TextModel",
      "state": {
       "description": "Число дней VOL",
       "layout": "IPY_MODEL_97c04cfba90f4df29db0bef415330e93",
       "style": "IPY_MODEL_3d8b7bb30c054e34832ff1b2066fd3a6"
      }
     },
     "9514cd54b22f456facba154f17c1239f": {
      "model_module": "@jupyter-widgets/base",
      "model_module_version": "1.2.0",
      "model_name": "LayoutModel",
      "state": {
       "width": "290px"
      }
     },
     "96fde496b5f048698d73791250063c1b": {
      "model_module": "@jupyter-widgets/controls",
      "model_module_version": "1.5.0",
      "model_name": "TextModel",
      "state": {
       "description": "Стоимость (для расчета YTM)",
       "layout": "IPY_MODEL_8357722de7804f5981498f9961ae39c5",
       "style": "IPY_MODEL_01857d7631224bafa5474a34b9f9928c",
       "value": "1000.0"
      }
     },
     "97c04cfba90f4df29db0bef415330e93": {
      "model_module": "@jupyter-widgets/base",
      "model_module_version": "1.2.0",
      "model_name": "LayoutModel",
      "state": {
       "width": "430px"
      }
     },
     "97cd90b370c74ebb99398db4f0388550": {
      "model_module": "@jupyter-widgets/controls",
      "model_module_version": "1.5.0",
      "model_name": "TextModel",
      "state": {
       "description": "Дата анализа",
       "layout": "IPY_MODEL_106ed5c1a7f449f8914e7d7df04f81a8",
       "style": "IPY_MODEL_24edf95d90b54592a6eb86755d46036e",
       "value": "2020-06-23"
      }
     },
     "9886737cfee84b32ae22c2b33dc632b5": {
      "model_module": "@jupyter-widgets/controls",
      "model_module_version": "1.5.0",
      "model_name": "ButtonModel",
      "state": {
       "description": "Показать описание типов",
       "layout": "IPY_MODEL_4577b64840344a399756aa7fb0d2deb5",
       "style": "IPY_MODEL_9e245532c9274aa18a0fe6b629f308b1"
      }
     },
     "98c1fe6be113466cb7d54db1f8edd08b": {
      "model_module": "@jupyter-widgets/controls",
      "model_module_version": "1.5.0",
      "model_name": "TextModel",
      "state": {
       "description": "Коэффициенты запоминания",
       "layout": "IPY_MODEL_ef1cebcae0f7433086b1830acc51e9aa",
       "style": "IPY_MODEL_03a5583ba25145c19853470d3da0af92",
       "value": "1 1 1 1 1 1"
      }
     },
     "9929fe64951c40baafbb40d7c728e26d": {
      "model_module": "@jupyter-widgets/base",
      "model_module_version": "1.2.0",
      "model_name": "LayoutModel",
      "state": {
       "width": "300px"
      }
     },
     "99381716fd874c48b0b8a14c6394d49a": {
      "model_module": "@jupyter-widgets/controls",
      "model_module_version": "1.5.0",
      "model_name": "HBoxModel",
      "state": {
       "children": [
        "IPY_MODEL_a917450949f84b63a40cfa9d909b7806",
        "IPY_MODEL_009b6830d4374853af53afa4aa9d07e5"
       ],
       "layout": "IPY_MODEL_1f1d73fc50a248edbcbc317b3108d248"
      }
     },
     "9acfe569cb9d42d593a32f47ea3303ba": {
      "model_module": "@jupyter-widgets/controls",
      "model_module_version": "1.5.0",
      "model_name": "HTMLModel",
      "state": {
       "layout": "IPY_MODEL_f3bdd8feec094bbaa8d0e4577370e5fb",
       "style": "IPY_MODEL_707f228727ed4726afe1a17c2772d6db",
       "value": "<b><font color='black'>Введите даты в формате ГГГГ-ММ-ДД. Несколько дат вводятся через пробел.</b>"
      }
     },
     "9b0c90afadc943fabb76f0d2f2d04b5a": {
      "model_module": "@jupyter-widgets/controls",
      "model_module_version": "1.5.0",
      "model_name": "DescriptionStyleModel",
      "state": {
       "description_width": "200px"
      }
     },
     "9b15445bf6b4449bba912391405acd13": {
      "model_module": "@jupyter-widgets/controls",
      "model_module_version": "1.5.0",
      "model_name": "DescriptionStyleModel",
      "state": {
       "description_width": "200px"
      }
     },
     "9cbf3cb6a971426e808add74d8f5418d": {
      "model_module": "@jupyter-widgets/controls",
      "model_module_version": "1.5.0",
      "model_name": "ButtonStyleModel",
      "state": {}
     },
     "9d8803241b054b058049246283b244a9": {
      "model_module": "@jupyter-widgets/base",
      "model_module_version": "1.2.0",
      "model_name": "LayoutModel",
      "state": {
       "width": "430px"
      }
     },
     "9e245532c9274aa18a0fe6b629f308b1": {
      "model_module": "@jupyter-widgets/controls",
      "model_module_version": "1.5.0",
      "model_name": "ButtonStyleModel",
      "state": {}
     },
     "a02e51e06e72458887afc9b32f239c16": {
      "model_module": "@jupyter-widgets/controls",
      "model_module_version": "1.5.0",
      "model_name": "DropdownModel",
      "state": {
       "_options_labels": [
        "US",
        "RU",
        "DE",
        "CN",
        "JP"
       ],
       "description": "Страна торговых дней",
       "index": 0,
       "layout": "IPY_MODEL_9514cd54b22f456facba154f17c1239f",
       "style": "IPY_MODEL_51a2e30615c34f45a03c7cf6d7e41886"
      }
     },
     "a15042621c4f4a6d97d0fdc9fbbe042f": {
      "model_module": "@jupyter-widgets/base",
      "model_module_version": "1.2.0",
      "model_name": "LayoutModel",
      "state": {
       "width": "392px"
      }
     },
     "a1faa5cad6e04e33a8048ace11445728": {
      "model_module": "@jupyter-widgets/controls",
      "model_module_version": "1.5.0",
      "model_name": "DescriptionStyleModel",
      "state": {
       "description_width": ""
      }
     },
     "a427f16e95a54b1488fe911d6c29ffe1": {
      "model_module": "@jupyter-widgets/base",
      "model_module_version": "1.2.0",
      "model_name": "LayoutModel",
      "state": {}
     },
     "a57c173317a24f08b2db82962d99f773": {
      "model_module": "@jupyter-widgets/base",
      "model_module_version": "1.2.0",
      "model_name": "LayoutModel",
      "state": {}
     },
     "a5be05dd97014a198c559238b7804a16": {
      "model_module": "@jupyter-widgets/controls",
      "model_module_version": "1.5.0",
      "model_name": "TextModel",
      "state": {
       "description": "MaxExp",
       "layout": "IPY_MODEL_833057b0c2b240bfbc0d16b43b454c6f",
       "style": "IPY_MODEL_1e9bfe118dbe4a9ba46ce40e21d47370"
      }
     },
     "a5ea23fc57424f0bac4fb8512a05e69a": {
      "model_module": "@jupyter-widgets/controls",
      "model_module_version": "1.5.0",
      "model_name": "DescriptionStyleModel",
      "state": {
       "description_width": ""
      }
     },
     "a917450949f84b63a40cfa9d909b7806": {
      "model_module": "@jupyter-widgets/controls",
      "model_module_version": "1.5.0",
      "model_name": "DropdownModel",
      "state": {
       "_options_labels": [
        "Yahoo",
        "Мосбиржа",
        "Файл CSV"
       ],
       "description": "Источник данных о котировках",
       "index": 0,
       "layout": "IPY_MODEL_c97a45a534404e3e86abee652b90fa58",
       "style": "IPY_MODEL_ce4fb0a69615416598ea2e6ef1000fb7"
      }
     },
     "ab03a01bc7194482bc6cde8c38831842": {
      "model_module": "@jupyter-widgets/base",
      "model_module_version": "1.2.0",
      "model_name": "LayoutModel",
      "state": {}
     },
     "ab158771cf4443e68c5346781734fe82": {
      "model_module": "@jupyter-widgets/controls",
      "model_module_version": "1.5.0",
      "model_name": "HBoxModel",
      "state": {
       "children": [
        "IPY_MODEL_83ac3129d07649b0b078a492fbf2dba2",
        "IPY_MODEL_bf65a7fbc31645c4938db1947cb840ce"
       ],
       "layout": "IPY_MODEL_004869121340466682ae646583f4c623"
      }
     },
     "ab7b2c29123d4ba88655969e15081ab5": {
      "model_module": "@jupyter-widgets/base",
      "model_module_version": "1.2.0",
      "model_name": "LayoutModel",
      "state": {}
     },
     "ac7669e7ac004ad6b8bda7bb4648c34a": {
      "model_module": "@jupyter-widgets/controls",
      "model_module_version": "1.5.0",
      "model_name": "LabelModel",
      "state": {
       "layout": "IPY_MODEL_bb7ca971131c49688fddff14e7be36d1",
       "style": "IPY_MODEL_4786d0a8eb95414291aa2bd4d88f0d73",
       "value": "4-Число акций"
      }
     },
     "b0702f3f0e93416197c3b489d750d0f4": {
      "model_module": "@jupyter-widgets/base",
      "model_module_version": "1.2.0",
      "model_name": "LayoutModel",
      "state": {
       "width": "392px"
      }
     },
     "b0b922cf78194c1a986d23f6545e1ab2": {
      "model_module": "@jupyter-widgets/controls",
      "model_module_version": "1.5.0",
      "model_name": "LabelModel",
      "state": {
       "layout": "IPY_MODEL_c4c12bbe15714f64b2a335e2ecb96a10",
       "style": "IPY_MODEL_505fca49af6941538629f1bfa8046783",
       "value": "2-Барьеры через пробел"
      }
     },
     "b0f6c526fd544d979591f7f3b5eb3715": {
      "model_module": "@jupyter-widgets/base",
      "model_module_version": "1.2.0",
      "model_name": "LayoutModel",
      "state": {}
     },
     "b216f9c97ba842b6ba4d87b83c47cde5": {
      "model_module": "@jupyter-widgets/controls",
      "model_module_version": "1.5.0",
      "model_name": "ButtonModel",
      "state": {
       "description": "Сохранить параметры облигации",
       "layout": "IPY_MODEL_69c2d2a97b264621a637477f6ca31adf",
       "style": "IPY_MODEL_e37cc26ecf4346deb3c33edb20e93a3f"
      }
     },
     "b531024be2ef4fcea682c2db9bf5d102": {
      "model_module": "@jupyter-widgets/controls",
      "model_module_version": "1.5.0",
      "model_name": "TextModel",
      "state": {
       "description": "Формат даты в файле CSV (если есть)",
       "layout": "IPY_MODEL_507bbcd9d2b54196bb798f3b9b6abf1a",
       "style": "IPY_MODEL_8f6f04b488e14fd9b1e88292a4a33c91"
      }
     },
     "b5d02c289a99468189607034a265915a": {
      "model_module": "@jupyter-widgets/base",
      "model_module_version": "1.2.0",
      "model_name": "LayoutModel",
      "state": {}
     },
     "b63ef5f5bfb94542aa04ccaafa5ee597": {
      "model_module": "@jupyter-widgets/controls",
      "model_module_version": "1.5.0",
      "model_name": "DescriptionStyleModel",
      "state": {
       "description_width": "200px"
      }
     },
     "b7690e5d5e654f7880288c61135523e4": {
      "model_module": "@jupyter-widgets/controls",
      "model_module_version": "1.5.0",
      "model_name": "DescriptionStyleModel",
      "state": {
       "description_width": "200px"
      }
     },
     "b83b060be0644ecea824f0580d291fb8": {
      "model_module": "@jupyter-widgets/controls",
      "model_module_version": "1.5.0",
      "model_name": "HTMLModel",
      "state": {
       "layout": "IPY_MODEL_818b5d9301ae44248c8bb3e938b251bd",
       "style": "IPY_MODEL_1bc6cf2c57794d20baf68a2c5b1e1635",
       "value": "<b><font color='black'><font size=3>Даты</b>"
      }
     },
     "b8829e8971304030886896de68626f13": {
      "model_module": "@jupyter-widgets/controls",
      "model_module_version": "1.5.0",
      "model_name": "DescriptionStyleModel",
      "state": {
       "description_width": "200px"
      }
     },
     "b90a247c25534a34b088e40cc4dc13a6": {
      "model_module": "@jupyter-widgets/base",
      "model_module_version": "1.2.0",
      "model_name": "LayoutModel",
      "state": {
       "width": "200px"
      }
     },
     "ba43650ff6e245778cd045157ed9d7db": {
      "model_module": "@jupyter-widgets/base",
      "model_module_version": "1.2.0",
      "model_name": "LayoutModel",
      "state": {
       "width": "392px"
      }
     },
     "bb5bbd95d8424ecb8211f764f1932119": {
      "model_module": "@jupyter-widgets/controls",
      "model_module_version": "1.5.0",
      "model_name": "HBoxModel",
      "state": {
       "children": [
        "IPY_MODEL_fe745947395144eda0c79b363e86b78a",
        "IPY_MODEL_13abc83e29a44048898866570b68cac9"
       ],
       "layout": "IPY_MODEL_27803d8339994cb88a05e211198bd34b"
      }
     },
     "bb7ca971131c49688fddff14e7be36d1": {
      "model_module": "@jupyter-widgets/base",
      "model_module_version": "1.2.0",
      "model_name": "LayoutModel",
      "state": {}
     },
     "bd0cfbfeda454a228c8d02d29ad47f65": {
      "model_module": "@jupyter-widgets/controls",
      "model_module_version": "1.5.0",
      "model_name": "DescriptionStyleModel",
      "state": {
       "description_width": "200px"
      }
     },
     "bd901a8196524d3589f34a0557b33638": {
      "model_module": "@jupyter-widgets/controls",
      "model_module_version": "1.5.0",
      "model_name": "DescriptionStyleModel",
      "state": {
       "description_width": ""
      }
     },
     "bda43ae4d27940959e4e60a3f667c370": {
      "model_module": "@jupyter-widgets/base",
      "model_module_version": "1.2.0",
      "model_name": "LayoutModel",
      "state": {
       "width": "300px"
      }
     },
     "bed03720f1c146dfb8b7be46801f2c03": {
      "model_module": "@jupyter-widgets/controls",
      "model_module_version": "1.5.0",
      "model_name": "DescriptionStyleModel",
      "state": {
       "description_width": "200px"
      }
     },
     "bf65a7fbc31645c4938db1947cb840ce": {
      "model_module": "@jupyter-widgets/controls",
      "model_module_version": "1.5.0",
      "model_name": "TextModel",
      "state": {
       "description": "Барьеры (через пробел)",
       "layout": "IPY_MODEL_9d8803241b054b058049246283b244a9",
       "style": "IPY_MODEL_74119eda7d6a4f35ba154bee530f64cc",
       "value": "0.95 0.95 0.95 0.95 0.95 0.95"
      }
     },
     "bf91949147be4d11802faeb5dfe566bd": {
      "model_module": "@jupyter-widgets/base",
      "model_module_version": "1.2.0",
      "model_name": "LayoutModel",
      "state": {
       "width": "430px"
      }
     },
     "c022cced85fd45bf8ba7163e072fd3db": {
      "model_module": "@jupyter-widgets/controls",
      "model_module_version": "1.5.0",
      "model_name": "HBoxModel",
      "state": {
       "children": [
        "IPY_MODEL_96fde496b5f048698d73791250063c1b",
        "IPY_MODEL_41fd2cbc99af4deb856d52c68b7e0e6d"
       ],
       "layout": "IPY_MODEL_b5d02c289a99468189607034a265915a"
      }
     },
     "c11a47d94c404a90bcd36ce5e80cd417": {
      "model_module": "@jupyter-widgets/base",
      "model_module_version": "1.2.0",
      "model_name": "LayoutModel",
      "state": {}
     },
     "c1b506b1166542c3b597297706b475f7": {
      "model_module": "@jupyter-widgets/base",
      "model_module_version": "1.2.0",
      "model_name": "LayoutModel",
      "state": {
       "width": "200px"
      }
     },
     "c24fece45d694ce7a29c879b029b448e": {
      "model_module": "@jupyter-widgets/controls",
      "model_module_version": "1.5.0",
      "model_name": "DescriptionStyleModel",
      "state": {
       "description_width": ""
      }
     },
     "c2d2f5a336bb4515924d0a0dd82a9422": {
      "model_module": "@jupyter-widgets/base",
      "model_module_version": "1.2.0",
      "model_name": "LayoutModel",
      "state": {
       "width": "300px"
      }
     },
     "c31ff4208cb04813b12f5a590dd06152": {
      "model_module": "@jupyter-widgets/controls",
      "model_module_version": "1.5.0",
      "model_name": "TextModel",
      "state": {
       "description": "Название файла CSV (если есть)",
       "layout": "IPY_MODEL_55e9c9ab7d974eaa898255ffb87b03cb",
       "style": "IPY_MODEL_1191f42aef5e40599ef93880b1e658ef"
      }
     },
     "c46e30b744b3444f84a293c69da91813": {
      "model_module": "@jupyter-widgets/base",
      "model_module_version": "1.2.0",
      "model_name": "LayoutModel",
      "state": {}
     },
     "c4c12bbe15714f64b2a335e2ecb96a10": {
      "model_module": "@jupyter-widgets/base",
      "model_module_version": "1.2.0",
      "model_name": "LayoutModel",
      "state": {}
     },
     "c4c1918613e2417b9df9b7f9f7b844a3": {
      "model_module": "@jupyter-widgets/controls",
      "model_module_version": "1.5.0",
      "model_name": "HBoxModel",
      "state": {
       "children": [
        "IPY_MODEL_c31ff4208cb04813b12f5a590dd06152",
        "IPY_MODEL_b531024be2ef4fcea682c2db9bf5d102"
       ],
       "layout": "IPY_MODEL_3a9d17a141094ed09f141e5d5ff37e98"
      }
     },
     "c5dae0e008204b94a86568f22b9338c2": {
      "model_module": "@jupyter-widgets/controls",
      "model_module_version": "1.5.0",
      "model_name": "ButtonStyleModel",
      "state": {}
     },
     "c5f16548aae84e8a9b1d9a9dabfe0a56": {
      "model_module": "@jupyter-widgets/controls",
      "model_module_version": "1.5.0",
      "model_name": "TextareaModel",
      "state": {
       "description": "Веса активов в корзинах \n(через пробел, сумма весов в строке должна быть равна 1, новая корзина с новой строки)",
       "layout": "IPY_MODEL_4a43b943b5df440ab9e1692181c92306",
       "style": "IPY_MODEL_bed03720f1c146dfb8b7be46801f2c03"
      }
     },
     "c6c7a705780b4a60b01c9d95834a5f2f": {
      "model_module": "@jupyter-widgets/controls",
      "model_module_version": "1.5.0",
      "model_name": "TextModel",
      "state": {
       "description": "Файл с историей Контрольного индекса",
       "layout": "IPY_MODEL_47b3d063dd47423cb62409e706337a31",
       "style": "IPY_MODEL_3e665d9332904430b9e3149f3f69bf01"
      }
     },
     "c82ebe0ca209468abb70b07a47e2dce1": {
      "model_module": "@jupyter-widgets/base",
      "model_module_version": "1.2.0",
      "model_name": "LayoutModel",
      "state": {
       "height": "120px",
       "width": "130px"
      }
     },
     "c8b53af7768342648eee6eb56e89f391": {
      "model_module": "@jupyter-widgets/controls",
      "model_module_version": "1.5.0",
      "model_name": "DescriptionStyleModel",
      "state": {
       "description_width": ""
      }
     },
     "c97a45a534404e3e86abee652b90fa58": {
      "model_module": "@jupyter-widgets/base",
      "model_module_version": "1.2.0",
      "model_name": "LayoutModel",
      "state": {
       "width": "392px"
      }
     },
     "cc08a2d524d74c5095ce9169b2497657": {
      "model_module": "@jupyter-widgets/controls",
      "model_module_version": "1.5.0",
      "model_name": "DescriptionStyleModel",
      "state": {
       "description_width": "200px"
      }
     },
     "cd35f21c54fd46d4b0149d007db70b38": {
      "model_module": "@jupyter-widgets/controls",
      "model_module_version": "1.5.0",
      "model_name": "CheckboxModel",
      "state": {
       "description": "Эффект памяти",
       "disabled": false,
       "layout": "IPY_MODEL_9929fe64951c40baafbb40d7c728e26d",
       "style": "IPY_MODEL_4e6c6aad0ac349da9d5f66deab1a3843",
       "value": false
      }
     },
     "ce4d3ade44364dcb9ea1217e904707d0": {
      "model_module": "@jupyter-widgets/controls",
      "model_module_version": "1.5.0",
      "model_name": "LabelModel",
      "state": {
       "layout": "IPY_MODEL_a427f16e95a54b1488fe911d6c29ffe1",
       "style": "IPY_MODEL_a5ea23fc57424f0bac4fb8512a05e69a",
       "value": "*при разных условиях для разных дат повторить написание 4 строк N уникальных раз"
      }
     },
     "ce4fb0a69615416598ea2e6ef1000fb7": {
      "model_module": "@jupyter-widgets/controls",
      "model_module_version": "1.5.0",
      "model_name": "DescriptionStyleModel",
      "state": {
       "description_width": "200px"
      }
     },
     "cf8cd76a01b94241b35d9c4869097da4": {
      "model_module": "@jupyter-widgets/controls",
      "model_module_version": "1.5.0",
      "model_name": "HBoxModel",
      "state": {
       "children": [
        "IPY_MODEL_2495ee34cbcd401ba7b0a2927fb72adb",
        "IPY_MODEL_a02e51e06e72458887afc9b32f239c16"
       ],
       "layout": "IPY_MODEL_ab03a01bc7194482bc6cde8c38831842"
      }
     },
     "d063f034a0664a88ac50a71f30af1105": {
      "model_module": "@jupyter-widgets/controls",
      "model_module_version": "1.5.0",
      "model_name": "HTMLModel",
      "state": {
       "layout": "IPY_MODEL_e12aaf5187014a4b9dcd91713cd1f274",
       "style": "IPY_MODEL_6c325df2a8e147cca668e5d2a1f90bfc",
       "value": "<b><font color='black'><font size=3>Базовые активы</b>"
      }
     },
     "d19e77baef8a4d42b22c679b1e6eb254": {
      "model_module": "@jupyter-widgets/controls",
      "model_module_version": "1.5.0",
      "model_name": "DescriptionStyleModel",
      "state": {
       "description_width": ""
      }
     },
     "d2c7e3d3a5b34f269b9cfe414b72cf07": {
      "model_module": "@jupyter-widgets/controls",
      "model_module_version": "1.5.0",
      "model_name": "DescriptionStyleModel",
      "state": {
       "description_width": "200px"
      }
     },
     "d370aefdcefc4168b3882a388244c129": {
      "model_module": "@jupyter-widgets/base",
      "model_module_version": "1.2.0",
      "model_name": "LayoutModel",
      "state": {
       "width": "392px"
      }
     },
     "d4c57ec56e6e4bb1ab9eea88def3ddad": {
      "model_module": "@jupyter-widgets/controls",
      "model_module_version": "1.5.0",
      "model_name": "CheckboxModel",
      "state": {
       "description": "Использовать нормальное распределение",
       "disabled": false,
       "layout": "IPY_MODEL_197cd2e79dea4a139544f4cf090f58d9",
       "style": "IPY_MODEL_f6d0d3d149bf49a4b2de38f66263fd86",
       "value": false
      }
     },
     "d52cdf42bcc447d3948f26d3be1071c8": {
      "model_module": "@jupyter-widgets/controls",
      "model_module_version": "1.5.0",
      "model_name": "ButtonModel",
      "state": {
       "description": "Загрузить параметры облигации",
       "layout": "IPY_MODEL_563da3c893054ffd94ccbd8c51c52cee",
       "style": "IPY_MODEL_9cbf3cb6a971426e808add74d8f5418d"
      }
     },
     "d5d126361df34339bf1fb39443694d2e": {
      "model_module": "@jupyter-widgets/controls",
      "model_module_version": "1.5.0",
      "model_name": "TextModel",
      "state": {
       "description": "Целевая волатильность",
       "layout": "IPY_MODEL_ebd1cbf98ceb49c592590189aef9febe",
       "style": "IPY_MODEL_83d2b4adbe5b40e786196ef04bc47c25"
      }
     },
     "d96f840a22c74943a4caa5c5d9103a4e": {
      "model_module": "@jupyter-widgets/base",
      "model_module_version": "1.2.0",
      "model_name": "LayoutModel",
      "state": {}
     },
     "d9c2bd2f5f2a4547b7fe3c8d8e1955fd": {
      "model_module": "@jupyter-widgets/controls",
      "model_module_version": "1.5.0",
      "model_name": "DescriptionStyleModel",
      "state": {
       "description_width": "200px"
      }
     },
     "db154b488f6e4c809983bf0f829a4c77": {
      "model_module": "@jupyter-widgets/controls",
      "model_module_version": "1.5.0",
      "model_name": "ButtonStyleModel",
      "state": {}
     },
     "dc04f3e6527d4c65ba5eda5d8fdbc148": {
      "model_module": "@jupyter-widgets/base",
      "model_module_version": "1.2.0",
      "model_name": "LayoutModel",
      "state": {}
     },
     "dc8cbb55392a471b8dfa8ea8e2bba171": {
      "model_module": "@jupyter-widgets/controls",
      "model_module_version": "1.5.0",
      "model_name": "HTMLModel",
      "state": {
       "layout": "IPY_MODEL_33f0cb05152c4973b338c53a0ffa4494",
       "style": "IPY_MODEL_d19e77baef8a4d42b22c679b1e6eb254",
       "value": "<b><font color='black'><font size=3>Другие параметры</b>"
      }
     },
     "dddc1284a10c4bc381287915c5be9e79": {
      "model_module": "@jupyter-widgets/controls",
      "model_module_version": "1.5.0",
      "model_name": "TextModel",
      "state": {
       "description": "Число испытаний в каждом окне",
       "layout": "IPY_MODEL_0e810524a94b4857a89363af20a29a9a",
       "style": "IPY_MODEL_1fb38863cbef4a5d9f9326b10bb71c37",
       "value": "10"
      }
     },
     "ddfeb820e84e4ace9d65b8f98d029411": {
      "model_module": "@jupyter-widgets/controls",
      "model_module_version": "1.5.0",
      "model_name": "TextareaModel",
      "state": {
       "description": "Даты купонов",
       "layout": "IPY_MODEL_47f6927b2225427f845e396270e47e33",
       "style": "IPY_MODEL_5ac4e8e2d98e492385da7c5a2fb60199",
       "value": "2020-12-29 2021-06-29 2021-12-29 2022-06-29 2022-12-29 2023-06-29"
      }
     },
     "deef11edcf514c83ba0756dcac422591": {
      "model_module": "@jupyter-widgets/controls",
      "model_module_version": "1.5.0",
      "model_name": "DescriptionStyleModel",
      "state": {
       "description_width": "200px"
      }
     },
     "e0baeca5b77d4b88a6eb704a2306f8d6": {
      "model_module": "@jupyter-widgets/controls",
      "model_module_version": "1.5.0",
      "model_name": "TextModel",
      "state": {
       "description": "Интервал в руб.",
       "layout": "IPY_MODEL_4c660ac5598f43549704a9c323800946",
       "style": "IPY_MODEL_2cd3cde20aa845f5b3e3c62bc38dfbab"
      }
     },
     "e12aaf5187014a4b9dcd91713cd1f274": {
      "model_module": "@jupyter-widgets/base",
      "model_module_version": "1.2.0",
      "model_name": "LayoutModel",
      "state": {}
     },
     "e37cc26ecf4346deb3c33edb20e93a3f": {
      "model_module": "@jupyter-widgets/controls",
      "model_module_version": "1.5.0",
      "model_name": "ButtonStyleModel",
      "state": {}
     },
     "e39a917281f24b1a84abb30c388949cd": {
      "model_module": "@jupyter-widgets/base",
      "model_module_version": "1.2.0",
      "model_name": "LayoutModel",
      "state": {}
     },
     "e3e7b71cf4404adeaffbb54ab3687f75": {
      "model_module": "@jupyter-widgets/base",
      "model_module_version": "1.2.0",
      "model_name": "LayoutModel",
      "state": {
       "width": "392px"
      }
     },
     "e52ecbc7678e45d5b5ce5bc4b8f6856d": {
      "model_module": "@jupyter-widgets/controls",
      "model_module_version": "1.5.0",
      "model_name": "DescriptionStyleModel",
      "state": {
       "description_width": "200px"
      }
     },
     "e79eab27447749799d553e48ec476826": {
      "model_module": "@jupyter-widgets/base",
      "model_module_version": "1.2.0",
      "model_name": "LayoutModel",
      "state": {
       "width": "392px"
      }
     },
     "e7b4bec6bde44306bb89a5cd79548fa6": {
      "model_module": "@jupyter-widgets/controls",
      "model_module_version": "1.5.0",
      "model_name": "HBoxModel",
      "state": {
       "children": [
        "IPY_MODEL_8e9dbc8c8ee54c5c88d3c3f81feef53f",
        "IPY_MODEL_ddfeb820e84e4ace9d65b8f98d029411"
       ],
       "layout": "IPY_MODEL_41aac7a41b9a4b42a323c157c6e562fc"
      }
     },
     "ea19a7778c5546119139937e761113ae": {
      "model_module": "@jupyter-widgets/base",
      "model_module_version": "1.2.0",
      "model_name": "LayoutModel",
      "state": {
       "width": "430px"
      }
     },
     "ea1a6d56a7c54047989838f8eb7d896b": {
      "model_module": "@jupyter-widgets/base",
      "model_module_version": "1.2.0",
      "model_name": "LayoutModel",
      "state": {}
     },
     "ebd1cbf98ceb49c592590189aef9febe": {
      "model_module": "@jupyter-widgets/base",
      "model_module_version": "1.2.0",
      "model_name": "LayoutModel",
      "state": {
       "width": "392px"
      }
     },
     "ebdf1b0fadef4b3898a4c29e723bfbe1": {
      "model_module": "@jupyter-widgets/controls",
      "model_module_version": "1.5.0",
      "model_name": "TextModel",
      "state": {
       "description": "Интервалы значений Контрольного индекса",
       "layout": "IPY_MODEL_e79eab27447749799d553e48ec476826",
       "style": "IPY_MODEL_d9c2bd2f5f2a4547b7fe3c8d8e1955fd"
      }
     },
     "ec332ba03788458cb72df1f3daa118a1": {
      "model_module": "@jupyter-widgets/controls",
      "model_module_version": "1.5.0",
      "model_name": "LabelModel",
      "state": {
       "layout": "IPY_MODEL_8ae29353784444fcad87caeeb808d919",
       "style": "IPY_MODEL_18e165fe42ff4b84a8927320ce94e643",
       "value": "3-Купоны"
      }
     },
     "ed82aa95a0c344618d9e225bdfc52373": {
      "model_module": "@jupyter-widgets/controls",
      "model_module_version": "1.5.0",
      "model_name": "DescriptionStyleModel",
      "state": {
       "description_width": "150px"
      }
     },
     "ef1cebcae0f7433086b1830acc51e9aa": {
      "model_module": "@jupyter-widgets/base",
      "model_module_version": "1.2.0",
      "model_name": "LayoutModel",
      "state": {
       "width": "392px"
      }
     },
     "f09dc89f13864b7390d39de1f2905466": {
      "model_module": "@jupyter-widgets/base",
      "model_module_version": "1.2.0",
      "model_name": "LayoutModel",
      "state": {
       "width": "392px"
      }
     },
     "f0d7279d2f394a88a5b323dfcd8b3173": {
      "model_module": "@jupyter-widgets/controls",
      "model_module_version": "1.5.0",
      "model_name": "DescriptionStyleModel",
      "state": {
       "description_width": ""
      }
     },
     "f3bdd8feec094bbaa8d0e4577370e5fb": {
      "model_module": "@jupyter-widgets/base",
      "model_module_version": "1.2.0",
      "model_name": "LayoutModel",
      "state": {}
     },
     "f3d56a386e3b42fdaa79d68dc9bc15cb": {
      "model_module": "@jupyter-widgets/base",
      "model_module_version": "1.2.0",
      "model_name": "LayoutModel",
      "state": {
       "width": "392px"
      }
     },
     "f4233b1272c7480ebd4397de0ef769de": {
      "model_module": "@jupyter-widgets/base",
      "model_module_version": "1.2.0",
      "model_name": "LayoutModel",
      "state": {}
     },
     "f4930de6e6804ea38606d8a497fd57d3": {
      "model_module": "@jupyter-widgets/controls",
      "model_module_version": "1.5.0",
      "model_name": "DescriptionStyleModel",
      "state": {
       "description_width": ""
      }
     },
     "f50a6820075044e1b0c2f2ed0520ba6f": {
      "model_module": "@jupyter-widgets/controls",
      "model_module_version": "1.5.0",
      "model_name": "CheckboxModel",
      "state": {
       "description": "Доход корректируется на курс EUR",
       "disabled": false,
       "layout": "IPY_MODEL_85cbd2b4c8bf45febb3e655d66efb7ea",
       "style": "IPY_MODEL_c8b53af7768342648eee6eb56e89f391",
       "value": false
      }
     },
     "f56bd92d53b94552bfb62be7a5cf39e9": {
      "model_module": "@jupyter-widgets/controls",
      "model_module_version": "1.5.0",
      "model_name": "ButtonModel",
      "state": {
       "description": "Записать параметры расчета",
       "layout": "IPY_MODEL_6527361ecd734b71aae832bb3facc94b",
       "style": "IPY_MODEL_4c430eb2da5e4ce39a5007b695f049b3"
      }
     },
     "f6d0d3d149bf49a4b2de38f66263fd86": {
      "model_module": "@jupyter-widgets/controls",
      "model_module_version": "1.5.0",
      "model_name": "DescriptionStyleModel",
      "state": {
       "description_width": ""
      }
     },
     "f7616ebd98204d01b85818aba4163025": {
      "model_module": "@jupyter-widgets/controls",
      "model_module_version": "1.5.0",
      "model_name": "HBoxModel",
      "state": {
       "children": [
        "IPY_MODEL_27fe3e6dae414367854fffc6c0b4f81a",
        "IPY_MODEL_6cdc1ecb4aae4210b89bca2471ed31fc"
       ],
       "layout": "IPY_MODEL_8d96b5a616004148802365d45ac9a200"
      }
     },
     "f797829b61444a8cb23dc5c226197b3c": {
      "model_module": "@jupyter-widgets/base",
      "model_module_version": "1.2.0",
      "model_name": "LayoutModel",
      "state": {
       "width": "392px"
      }
     },
     "f81ff2c219234d2185566d52648533d0": {
      "model_module": "@jupyter-widgets/controls",
      "model_module_version": "1.5.0",
      "model_name": "DescriptionStyleModel",
      "state": {
       "description_width": ""
      }
     },
     "f8700920320543939839fcc5c2a4a061": {
      "model_module": "@jupyter-widgets/base",
      "model_module_version": "1.2.0",
      "model_name": "LayoutModel",
      "state": {}
     },
     "f8842a4e51624dd3819b4f1d8c035ff0": {
      "model_module": "@jupyter-widgets/controls",
      "model_module_version": "1.5.0",
      "model_name": "DropdownModel",
      "state": {
       "_options_labels": [
        "Не выбран",
        "Тип 1",
        "Тип 2",
        "Тип 3",
        "Тип 4",
        "Тип 5"
       ],
       "index": 1,
       "layout": "IPY_MODEL_c1b506b1166542c3b597297706b475f7",
       "style": "IPY_MODEL_c24fece45d694ce7a29c879b029b448e"
      }
     },
     "f90668adced84d4a9815d3a82dd796d5": {
      "model_module": "@jupyter-widgets/base",
      "model_module_version": "1.2.0",
      "model_name": "LayoutModel",
      "state": {}
     },
     "fbc66a2180f0438596835a8da728470f": {
      "model_module": "@jupyter-widgets/controls",
      "model_module_version": "1.5.0",
      "model_name": "LabelModel",
      "state": {
       "layout": "IPY_MODEL_0bd9f88f3fe44e42a0dd55542448a7d0",
       "style": "IPY_MODEL_f4930de6e6804ea38606d8a497fd57d3",
       "value": "Выберите тип облигации:"
      }
     },
     "fdde4127a58740b79f3e6460eb22a86d": {
      "model_module": "@jupyter-widgets/controls",
      "model_module_version": "1.5.0",
      "model_name": "TextModel",
      "state": {
       "description": "Номинал",
       "layout": "IPY_MODEL_b0702f3f0e93416197c3b489d750d0f4",
       "style": "IPY_MODEL_7fa0e24290c74d4eaac3697694f7002f",
       "value": "1000.0"
      }
     },
     "fe745947395144eda0c79b363e86b78a": {
      "model_module": "@jupyter-widgets/controls",
      "model_module_version": "1.5.0",
      "model_name": "TextModel",
      "state": {
       "description": "Дата начального наблюдения",
       "layout": "IPY_MODEL_8e54d0ba79164cb2ae8a4ee4b4f0619e",
       "style": "IPY_MODEL_9b15445bf6b4449bba912391405acd13",
       "value": "2020-06-23"
      }
     }
    },
    "version_major": 2,
    "version_minor": 0
   }
  }
 },
 "nbformat": 4,
 "nbformat_minor": 4
}
